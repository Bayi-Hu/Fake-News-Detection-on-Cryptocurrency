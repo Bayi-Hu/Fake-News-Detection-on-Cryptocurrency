{
 "cells": [
  {
   "cell_type": "code",
   "execution_count": 1,
   "id": "be3f7035",
   "metadata": {},
   "outputs": [
    {
     "name": "stdout",
     "output_type": "stream",
     "text": [
      "WARNING:tensorflow:From /Users/husihao/anaconda3/lib/python3.8/site-packages/tensorflow/python/compat/v2_compat.py:96: disable_resource_variables (from tensorflow.python.ops.variable_scope) is deprecated and will be removed in a future version.\n",
      "Instructions for updating:\n",
      "non-resource variables are not supported in the long term\n"
     ]
    }
   ],
   "source": [
    "# -*- coding:utf-8 -*-\n",
    "import tensorflow.compat.v1 as tf\n",
    "tf.disable_v2_behavior()\n",
    "import numpy as np\n",
    "import pandas as pd\n",
    "import pickle as pkl\n",
    "from datetime import *\n",
    "import os"
   ]
  },
  {
   "cell_type": "code",
   "execution_count": 2,
   "id": "290b2675",
   "metadata": {},
   "outputs": [],
   "source": [
    "column_list = \"label,channel_id,coin,timestamp,length,coin_seq,feature_seq,pre_1h_return,pre_1h_price,pre_1h_price_avg,pre_1h_volume,pre_1h_volume_avg,pre_1h_volume_sum,pre_1h_volume_tb,pre_1h_volume_quote,pre_1h_volume_quote_tb,pre_3h_return,pre_3h_price,pre_3h_price_avg,pre_3h_volume,pre_3h_volume_avg,pre_3h_volume_sum,pre_3h_volume_tb,pre_3h_volume_tb_avg,pre_3h_volume_tb_sum,pre_3h_volume_quote,pre_3h_volume_quote_avg,pre_3h_volume_quote_sum,pre_3h_volume_quote_tb,pre_3h_volume_quote_tb_avg,pre_3h_volume_quote_tb_sum,pre_6h_return,pre_6h_price,pre_6h_price_avg,pre_6h_volume,pre_6h_volume_avg,pre_6h_volume_sum,pre_6h_volume_tb,pre_6h_volume_tb_avg,pre_6h_volume_tb_sum,pre_6h_volume_quote,pre_6h_volume_quote_avg,pre_6h_volume_quote_sum,pre_6h_volume_quote_tb,pre_6h_volume_quote_tb_avg,pre_6h_volume_quote_tb_sum,pre_12h_return,pre_12h_price,pre_12h_price_avg,pre_12h_volume,pre_12h_volume_avg,pre_12h_volume_sum,pre_12h_volume_tb,pre_12h_volume_tb_avg,pre_12h_volume_tb_sum,pre_12h_volume_quote,pre_12h_volume_quote_avg,pre_12h_volume_quote_sum,pre_12h_volume_quote_tb,pre_12h_volume_quote_tb_avg,pre_12h_volume_quote_tb_sum,pre_24h_return,pre_24h_price,pre_24h_price_avg,pre_24h_volume,pre_24h_volume_avg,pre_24h_volume_sum,pre_24h_volume_tb,pre_24h_volume_tb_avg,pre_24h_volume_tb_sum,pre_24h_volume_quote,pre_24h_volume_quote_avg,pre_24h_volume_quote_sum,pre_24h_volume_quote_tb,pre_24h_volume_quote_tb_avg,pre_24h_volume_quote_tb_sum,pre_36h_return,pre_36h_price,pre_36h_price_avg,pre_36h_volume,pre_36h_volume_avg,pre_36h_volume_sum,pre_36h_volume_tb,pre_36h_volume_tb_avg,pre_36h_volume_tb_sum,pre_36h_volume_quote,pre_36h_volume_quote_avg,pre_36h_volume_quote_sum,pre_36h_volume_quote_tb,pre_36h_volume_quote_tb_avg,pre_36h_volume_quote_tb_sum,pre_48h_return,pre_48h_price,pre_48h_price_avg,pre_48h_volume,pre_48h_volume_avg,pre_48h_volume_sum,pre_48h_volume_tb,pre_48h_volume_tb_avg,pre_48h_volume_tb_sum,pre_48h_volume_quote,pre_48h_volume_quote_avg,pre_48h_volume_quote_sum,pre_48h_volume_quote_tb,pre_48h_volume_quote_tb_avg,pre_48h_volume_quote_tb_sum,pre_60h_return,pre_60h_price,pre_60h_price_avg,pre_60h_volume,pre_60h_volume_avg,pre_60h_volume_sum,pre_60h_volume_tb,pre_60h_volume_tb_avg,pre_60h_volume_tb_sum,pre_60h_volume_quote,pre_60h_volume_quote_avg,pre_60h_volume_quote_sum,pre_60h_volume_quote_tb,pre_60h_volume_quote_tb_avg,pre_60h_volume_quote_tb_sum,pre_72h_return,pre_72h_price,pre_72h_price_avg,pre_72h_volume,pre_72h_volume_avg,pre_72h_volume_sum,pre_72h_volume_tb,pre_72h_volume_tb_avg,pre_72h_volume_tb_sum,pre_72h_volume_quote,pre_72h_volume_quote_avg,pre_72h_volume_quote_sum,pre_72h_volume_quote_tb,pre_72h_volume_quote_tb_avg,pre_72h_volume_quote_tb_sum,pre_3d_market_cap_usd,pre_3d_market_cap_btc,pre_3d_price_usd,pre_3d_price_btc,pre_3d_volume_usd,pre_3d_volume_btc,pre_3d_twitter_index,pre_3d_reddit_index,pre_3d_alexa_index\".split(\",\")"
   ]
  },
  {
   "cell_type": "code",
   "execution_count": 14,
   "id": "388ad9c6",
   "metadata": {},
   "outputs": [],
   "source": [
    "sample_df = pd.read_csv(\"test_sample.csv\", names=column_list)"
   ]
  },
  {
   "cell_type": "code",
   "execution_count": 15,
   "id": "85699bd9",
   "metadata": {},
   "outputs": [
    {
     "data": {
      "text/html": [
       "<div>\n",
       "<style scoped>\n",
       "    .dataframe tbody tr th:only-of-type {\n",
       "        vertical-align: middle;\n",
       "    }\n",
       "\n",
       "    .dataframe tbody tr th {\n",
       "        vertical-align: top;\n",
       "    }\n",
       "\n",
       "    .dataframe thead th {\n",
       "        text-align: right;\n",
       "    }\n",
       "</style>\n",
       "<table border=\"1\" class=\"dataframe\">\n",
       "  <thead>\n",
       "    <tr style=\"text-align: right;\">\n",
       "      <th></th>\n",
       "      <th></th>\n",
       "      <th>label</th>\n",
       "      <th>channel_id</th>\n",
       "      <th>coin</th>\n",
       "      <th>timestamp</th>\n",
       "      <th>length</th>\n",
       "      <th>coin_seq</th>\n",
       "      <th>feature_seq</th>\n",
       "      <th>pre_1h_return</th>\n",
       "      <th>pre_1h_price</th>\n",
       "      <th>pre_1h_price_avg</th>\n",
       "      <th>...</th>\n",
       "      <th>pre_72h_volume_quote_tb_sum</th>\n",
       "      <th>pre_3d_market_cap_usd</th>\n",
       "      <th>pre_3d_market_cap_btc</th>\n",
       "      <th>pre_3d_price_usd</th>\n",
       "      <th>pre_3d_price_btc</th>\n",
       "      <th>pre_3d_volume_usd</th>\n",
       "      <th>pre_3d_volume_btc</th>\n",
       "      <th>pre_3d_twitter_index</th>\n",
       "      <th>pre_3d_reddit_index</th>\n",
       "      <th>pre_3d_alexa_index</th>\n",
       "    </tr>\n",
       "  </thead>\n",
       "  <tbody>\n",
       "    <tr>\n",
       "      <th>47611</th>\n",
       "      <th>47611</th>\n",
       "      <td>0</td>\n",
       "      <td>1136271991</td>\n",
       "      <td>LOOM</td>\n",
       "      <td>2019-06-04 12:01:33+00:00</td>\n",
       "      <td>0</td>\n",
       "      <td>NaN</td>\n",
       "      <td>NaN</td>\n",
       "      <td>0.025484</td>\n",
       "      <td>0.963094</td>\n",
       "      <td>0.963094</td>\n",
       "      <td>...</td>\n",
       "      <td>7.039568</td>\n",
       "      <td>25.700048</td>\n",
       "      <td>12.633567</td>\n",
       "      <td>7.872418e+03</td>\n",
       "      <td>0.917941</td>\n",
       "      <td>21.789446</td>\n",
       "      <td>8.723669</td>\n",
       "      <td>14.261000</td>\n",
       "      <td>15.273629</td>\n",
       "      <td>18.631966</td>\n",
       "    </tr>\n",
       "    <tr>\n",
       "      <th>34518</th>\n",
       "      <th>34518</th>\n",
       "      <td>0</td>\n",
       "      <td>1480242121</td>\n",
       "      <td>ARDR</td>\n",
       "      <td>2021-07-06 19:15:12+00:00</td>\n",
       "      <td>0</td>\n",
       "      <td>NaN</td>\n",
       "      <td>NaN</td>\n",
       "      <td>-0.003899</td>\n",
       "      <td>0.514174</td>\n",
       "      <td>0.514174</td>\n",
       "      <td>...</td>\n",
       "      <td>6.091853</td>\n",
       "      <td>27.296548</td>\n",
       "      <td>12.251924</td>\n",
       "      <td>1.649834e+04</td>\n",
       "      <td>0.487232</td>\n",
       "      <td>24.562623</td>\n",
       "      <td>9.515469</td>\n",
       "      <td>16.139953</td>\n",
       "      <td>12.767171</td>\n",
       "      <td>18.765943</td>\n",
       "    </tr>\n",
       "    <tr>\n",
       "      <th>57260</th>\n",
       "      <th>57260</th>\n",
       "      <td>0</td>\n",
       "      <td>1219293084</td>\n",
       "      <td>LOOM</td>\n",
       "      <td>2020-05-29 16:00:22+00:00</td>\n",
       "      <td>4</td>\n",
       "      <td>MDA\\tBNT\\tRLC\\tGVT</td>\n",
       "      <td>4.267\u00024.258\u00024.6610000000000005\u00024.4595\u00024.500999...</td>\n",
       "      <td>0.006876</td>\n",
       "      <td>0.187372</td>\n",
       "      <td>0.187372</td>\n",
       "      <td>...</td>\n",
       "      <td>5.709533</td>\n",
       "      <td>23.835330</td>\n",
       "      <td>10.718100</td>\n",
       "      <td>1.797913e+03</td>\n",
       "      <td>0.202215</td>\n",
       "      <td>23.200714</td>\n",
       "      <td>10.082702</td>\n",
       "      <td>14.397280</td>\n",
       "      <td>15.273629</td>\n",
       "      <td>19.438315</td>\n",
       "    </tr>\n",
       "    <tr>\n",
       "      <th>10091</th>\n",
       "      <th>10091</th>\n",
       "      <td>0</td>\n",
       "      <td>1296134866</td>\n",
       "      <td>AKRO</td>\n",
       "      <td>2021-11-28 17:00:05+00:00</td>\n",
       "      <td>26</td>\n",
       "      <td>MTH\\tEZ\\tEVX\\tWNXM\\tEZ\\tFXS\\tVIB\\tNAS\\tEZ\\tDRE...</td>\n",
       "      <td>0.059\u00020.059\u00020.133\u00020.0915\u00020.1225\u00020.058989991597...</td>\n",
       "      <td>0.016018</td>\n",
       "      <td>0.056092</td>\n",
       "      <td>0.056092</td>\n",
       "      <td>...</td>\n",
       "      <td>4.793001</td>\n",
       "      <td>26.357949</td>\n",
       "      <td>10.554131</td>\n",
       "      <td>3.173270e+03</td>\n",
       "      <td>0.055483</td>\n",
       "      <td>22.821812</td>\n",
       "      <td>7.019359</td>\n",
       "      <td>15.580733</td>\n",
       "      <td>15.273629</td>\n",
       "      <td>17.772502</td>\n",
       "    </tr>\n",
       "    <tr>\n",
       "      <th>38637</th>\n",
       "      <th>38637</th>\n",
       "      <td>0</td>\n",
       "      <td>1267170242</td>\n",
       "      <td>KSM</td>\n",
       "      <td>2021-02-13 17:00:05+00:00</td>\n",
       "      <td>22</td>\n",
       "      <td>IDEX\\tADX\\tOAX\\tARK\\tRLC\\tELF\\tRLC\\tBRD\\tSTORJ...</td>\n",
       "      <td>0.126\u00020.13\u00020.27\u00020.165\u00020.1905\u00020.125823973771497...</td>\n",
       "      <td>0.008207</td>\n",
       "      <td>346.166343</td>\n",
       "      <td>346.166343</td>\n",
       "      <td>...</td>\n",
       "      <td>7.287367</td>\n",
       "      <td>30.130546</td>\n",
       "      <td>14.622910</td>\n",
       "      <td>1.308077e+07</td>\n",
       "      <td>280.736128</td>\n",
       "      <td>27.493693</td>\n",
       "      <td>11.985855</td>\n",
       "      <td>15.045337</td>\n",
       "      <td>15.273629</td>\n",
       "      <td>16.856475</td>\n",
       "    </tr>\n",
       "  </tbody>\n",
       "</table>\n",
       "<p>5 rows × 145 columns</p>\n",
       "</div>"
      ],
      "text/plain": [
       "             label  channel_id  coin                  timestamp  length  \\\n",
       "47611 47611      0  1136271991  LOOM  2019-06-04 12:01:33+00:00       0   \n",
       "34518 34518      0  1480242121  ARDR  2021-07-06 19:15:12+00:00       0   \n",
       "57260 57260      0  1219293084  LOOM  2020-05-29 16:00:22+00:00       4   \n",
       "10091 10091      0  1296134866  AKRO  2021-11-28 17:00:05+00:00      26   \n",
       "38637 38637      0  1267170242   KSM  2021-02-13 17:00:05+00:00      22   \n",
       "\n",
       "                                                      coin_seq  \\\n",
       "47611 47611                                                NaN   \n",
       "34518 34518                                                NaN   \n",
       "57260 57260                                 MDA\\tBNT\\tRLC\\tGVT   \n",
       "10091 10091  MTH\\tEZ\\tEVX\\tWNXM\\tEZ\\tFXS\\tVIB\\tNAS\\tEZ\\tDRE...   \n",
       "38637 38637  IDEX\\tADX\\tOAX\\tARK\\tRLC\\tELF\\tRLC\\tBRD\\tSTORJ...   \n",
       "\n",
       "                                                   feature_seq  pre_1h_return  \\\n",
       "47611 47611                                                NaN       0.025484   \n",
       "34518 34518                                                NaN      -0.003899   \n",
       "57260 57260  4.267\u00024.258\u00024.6610000000000005\u00024.4595\u00024.500999...       0.006876   \n",
       "10091 10091  0.059\u00020.059\u00020.133\u00020.0915\u00020.1225\u00020.058989991597...       0.016018   \n",
       "38637 38637  0.126\u00020.13\u00020.27\u00020.165\u00020.1905\u00020.125823973771497...       0.008207   \n",
       "\n",
       "             pre_1h_price  pre_1h_price_avg  ...  pre_72h_volume_quote_tb_sum  \\\n",
       "47611 47611      0.963094          0.963094  ...                     7.039568   \n",
       "34518 34518      0.514174          0.514174  ...                     6.091853   \n",
       "57260 57260      0.187372          0.187372  ...                     5.709533   \n",
       "10091 10091      0.056092          0.056092  ...                     4.793001   \n",
       "38637 38637    346.166343        346.166343  ...                     7.287367   \n",
       "\n",
       "             pre_3d_market_cap_usd  pre_3d_market_cap_btc  pre_3d_price_usd  \\\n",
       "47611 47611              25.700048              12.633567      7.872418e+03   \n",
       "34518 34518              27.296548              12.251924      1.649834e+04   \n",
       "57260 57260              23.835330              10.718100      1.797913e+03   \n",
       "10091 10091              26.357949              10.554131      3.173270e+03   \n",
       "38637 38637              30.130546              14.622910      1.308077e+07   \n",
       "\n",
       "             pre_3d_price_btc  pre_3d_volume_usd  pre_3d_volume_btc  \\\n",
       "47611 47611          0.917941          21.789446           8.723669   \n",
       "34518 34518          0.487232          24.562623           9.515469   \n",
       "57260 57260          0.202215          23.200714          10.082702   \n",
       "10091 10091          0.055483          22.821812           7.019359   \n",
       "38637 38637        280.736128          27.493693          11.985855   \n",
       "\n",
       "             pre_3d_twitter_index  pre_3d_reddit_index  pre_3d_alexa_index  \n",
       "47611 47611             14.261000            15.273629           18.631966  \n",
       "34518 34518             16.139953            12.767171           18.765943  \n",
       "57260 57260             14.397280            15.273629           19.438315  \n",
       "10091 10091             15.580733            15.273629           17.772502  \n",
       "38637 38637             15.045337            15.273629           16.856475  \n",
       "\n",
       "[5 rows x 145 columns]"
      ]
     },
     "execution_count": 15,
     "metadata": {},
     "output_type": "execute_result"
    }
   ],
   "source": [
    "sample_df.head()"
   ]
  },
  {
   "cell_type": "code",
   "execution_count": 3,
   "id": "eb6d7156",
   "metadata": {},
   "outputs": [],
   "source": [
    "input_file = \"test_sample.csv\" # pos_sample_fg.csv\n",
    "\n",
    "feat_config = {\n",
    "    \"n_channel\": 200,\n",
    "    \"d_channel\": 16,\n",
    "    \"n_coin\": 1000,\n",
    "    \"d_coin\": 16,\n",
    "    \"n_feat\": 142,\n",
    "    \"max_length\": 50,\n",
    "    \"batch_size\": 20,\n",
    "    \"epoch\": 3\n",
    "}"
   ]
  },
  {
   "cell_type": "code",
   "execution_count": 4,
   "id": "40254471",
   "metadata": {},
   "outputs": [],
   "source": [
    "dataset = tf.data.TextLineDataset(input_file)"
   ]
  },
  {
   "cell_type": "code",
   "execution_count": null,
   "id": "8f50eb8c",
   "metadata": {},
   "outputs": [],
   "source": []
  },
  {
   "cell_type": "code",
   "execution_count": 5,
   "id": "d8699e21",
   "metadata": {},
   "outputs": [
    {
     "name": "stdout",
     "output_type": "stream",
     "text": [
      "WARNING:tensorflow:From /Users/husihao/anaconda3/lib/python3.8/site-packages/tensorflow/python/util/dispatch.py:201: calling string_split (from tensorflow.python.ops.ragged.ragged_string_ops) with delimiter is deprecated and will be removed in a future version.\n",
      "Instructions for updating:\n",
      "delimiter is deprecated, please use sep instead.\n"
     ]
    }
   ],
   "source": [
    "def parse_split(line):\n",
    "\n",
    "    parse_res = tf.string_split([line], delimiter=\",\")\n",
    "    values = parse_res.values\n",
    "    label = values[0]\n",
    "    channel = values[1]\n",
    "    coin = values[2]\n",
    "    length = values[4]\n",
    "    coin_seq = values[5]\n",
    "    feature_seq = values[6]\n",
    "    feature_target = values[7:]\n",
    "\n",
    "    return label, channel, coin, length, coin_seq, feature_seq, feature_target\n",
    "\n",
    "dataset = dataset.map(parse_split, num_parallel_calls=2)"
   ]
  },
  {
   "cell_type": "code",
   "execution_count": 6,
   "id": "9f77dd5c",
   "metadata": {},
   "outputs": [],
   "source": [
    "dataset = dataset.shuffle(1).repeat(feat_config[\"epoch\"]).batch(feat_config[\"batch_size\"])"
   ]
  },
  {
   "cell_type": "code",
   "execution_count": 7,
   "id": "bd9ec788",
   "metadata": {
    "collapsed": true
   },
   "outputs": [
    {
     "name": "stdout",
     "output_type": "stream",
     "text": [
      "WARNING:tensorflow:From <ipython-input-7-5108a2f362bc>:1: DatasetV1.make_one_shot_iterator (from tensorflow.python.data.ops.dataset_ops) is deprecated and will be removed in a future version.\n",
      "Instructions for updating:\n",
      "This is a deprecated API that should only be used in TF 1 graph mode and legacy TF 2 graph mode available through `tf.compat.v1`. In all other situations -- namely, eager mode and inside `tf.function` -- you can consume dataset elements using `for elem in dataset: ...` or by explicitly creating iterator via `iterator = iter(dataset)` and fetching its elements via `values = next(iterator)`. Furthermore, this API is not available in TF 2. During the transition from TF 1 to TF 2 you can use `tf.compat.v1.data.make_one_shot_iterator(dataset)` to create a TF 1 graph mode style iterator for a dataset created through TF 2 APIs. Note that this should be a transient state of your code base as there are in general no guarantees about the interoperability of TF 1 and TF 2 code.\n"
     ]
    }
   ],
   "source": [
    "iterator = dataset.make_one_shot_iterator()"
   ]
  },
  {
   "cell_type": "code",
   "execution_count": 8,
   "id": "dcc547a9",
   "metadata": {},
   "outputs": [],
   "source": [
    "label, channel, coin, length, coin_seq, feature_seq, feature_target = iterator.get_next()"
   ]
  },
  {
   "cell_type": "code",
   "execution_count": 9,
   "id": "38cba5b5",
   "metadata": {},
   "outputs": [
    {
     "data": {
      "text/plain": [
       "<tf.Tensor 'IteratorGetNext:0' shape=(?,) dtype=string>"
      ]
     },
     "execution_count": 9,
     "metadata": {},
     "output_type": "execute_result"
    }
   ],
   "source": []
  },
  {
   "cell_type": "code",
   "execution_count": 10,
   "id": "32c9596f",
   "metadata": {},
   "outputs": [
    {
     "data": {
      "text/plain": [
       "<tf.Tensor 'IteratorGetNext:6' shape=(?, ?) dtype=string>"
      ]
     },
     "execution_count": 10,
     "metadata": {},
     "output_type": "execute_result"
    }
   ],
   "source": [
    "feature_target"
   ]
  },
  {
   "cell_type": "code",
   "execution_count": null,
   "id": "057bde7e",
   "metadata": {},
   "outputs": [],
   "source": []
  },
  {
   "cell_type": "code",
   "execution_count": null,
   "id": "c40d8f38",
   "metadata": {},
   "outputs": [],
   "source": []
  },
  {
   "cell_type": "code",
   "execution_count": 13,
   "id": "b7427836",
   "metadata": {},
   "outputs": [
    {
     "ename": "InvalidArgumentError",
     "evalue": "Cannot batch tensors with different shapes in component 6. First element had shape [138] and element 2 had shape [140].\n\t [[node IteratorGetNext (defined at <ipython-input-8-76da07df8976>:1) ]]\n\nErrors may have originated from an input operation.\nInput Source operations connected to node IteratorGetNext:\n OneShotIterator (defined at <ipython-input-7-5108a2f362bc>:1)\n\nOriginal stack trace for 'IteratorGetNext':\n  File \"/Users/husihao/anaconda3/lib/python3.8/runpy.py\", line 194, in _run_module_as_main\n    return _run_code(code, main_globals, None,\n  File \"/Users/husihao/anaconda3/lib/python3.8/runpy.py\", line 87, in _run_code\n    exec(code, run_globals)\n  File \"/Users/husihao/anaconda3/lib/python3.8/site-packages/ipykernel_launcher.py\", line 16, in <module>\n    app.launch_new_instance()\n  File \"/Users/husihao/anaconda3/lib/python3.8/site-packages/traitlets/config/application.py\", line 845, in launch_instance\n    app.start()\n  File \"/Users/husihao/anaconda3/lib/python3.8/site-packages/ipykernel/kernelapp.py\", line 612, in start\n    self.io_loop.start()\n  File \"/Users/husihao/anaconda3/lib/python3.8/site-packages/tornado/platform/asyncio.py\", line 199, in start\n    self.asyncio_loop.run_forever()\n  File \"/Users/husihao/anaconda3/lib/python3.8/asyncio/base_events.py\", line 570, in run_forever\n    self._run_once()\n  File \"/Users/husihao/anaconda3/lib/python3.8/asyncio/base_events.py\", line 1859, in _run_once\n    handle._run()\n  File \"/Users/husihao/anaconda3/lib/python3.8/asyncio/events.py\", line 81, in _run\n    self._context.run(self._callback, *self._args)\n  File \"/Users/husihao/anaconda3/lib/python3.8/site-packages/tornado/ioloop.py\", line 688, in <lambda>\n    lambda f: self._run_callback(functools.partial(callback, future))\n  File \"/Users/husihao/anaconda3/lib/python3.8/site-packages/tornado/ioloop.py\", line 741, in _run_callback\n    ret = callback()\n  File \"/Users/husihao/anaconda3/lib/python3.8/site-packages/tornado/gen.py\", line 814, in inner\n    self.ctx_run(self.run)\n  File \"/Users/husihao/anaconda3/lib/python3.8/site-packages/tornado/gen.py\", line 775, in run\n    yielded = self.gen.send(value)\n  File \"/Users/husihao/anaconda3/lib/python3.8/site-packages/ipykernel/kernelbase.py\", line 365, in process_one\n    yield gen.maybe_future(dispatch(*args))\n  File \"/Users/husihao/anaconda3/lib/python3.8/site-packages/tornado/gen.py\", line 234, in wrapper\n    yielded = ctx_run(next, result)\n  File \"/Users/husihao/anaconda3/lib/python3.8/site-packages/ipykernel/kernelbase.py\", line 268, in dispatch_shell\n    yield gen.maybe_future(handler(stream, idents, msg))\n  File \"/Users/husihao/anaconda3/lib/python3.8/site-packages/tornado/gen.py\", line 234, in wrapper\n    yielded = ctx_run(next, result)\n  File \"/Users/husihao/anaconda3/lib/python3.8/site-packages/ipykernel/kernelbase.py\", line 543, in execute_request\n    self.do_execute(\n  File \"/Users/husihao/anaconda3/lib/python3.8/site-packages/tornado/gen.py\", line 234, in wrapper\n    yielded = ctx_run(next, result)\n  File \"/Users/husihao/anaconda3/lib/python3.8/site-packages/ipykernel/ipkernel.py\", line 306, in do_execute\n    res = shell.run_cell(code, store_history=store_history, silent=silent)\n  File \"/Users/husihao/anaconda3/lib/python3.8/site-packages/ipykernel/zmqshell.py\", line 536, in run_cell\n    return super(ZMQInteractiveShell, self).run_cell(*args, **kwargs)\n  File \"/Users/husihao/anaconda3/lib/python3.8/site-packages/IPython/core/interactiveshell.py\", line 2894, in run_cell\n    result = self._run_cell(\n  File \"/Users/husihao/anaconda3/lib/python3.8/site-packages/IPython/core/interactiveshell.py\", line 2940, in _run_cell\n    return runner(coro)\n  File \"/Users/husihao/anaconda3/lib/python3.8/site-packages/IPython/core/async_helpers.py\", line 68, in _pseudo_sync_runner\n    coro.send(None)\n  File \"/Users/husihao/anaconda3/lib/python3.8/site-packages/IPython/core/interactiveshell.py\", line 3165, in run_cell_async\n    has_raised = await self.run_ast_nodes(code_ast.body, cell_name,\n  File \"/Users/husihao/anaconda3/lib/python3.8/site-packages/IPython/core/interactiveshell.py\", line 3357, in run_ast_nodes\n    if (await self.run_code(code, result,  async_=asy)):\n  File \"/Users/husihao/anaconda3/lib/python3.8/site-packages/IPython/core/interactiveshell.py\", line 3437, in run_code\n    exec(code_obj, self.user_global_ns, self.user_ns)\n  File \"<ipython-input-8-76da07df8976>\", line 1, in <module>\n    label, channel, coin, length, coin_seq, feature_seq, feature_target = iterator.get_next()\n  File \"/Users/husihao/anaconda3/lib/python3.8/site-packages/tensorflow/python/data/ops/iterator_ops.py\", line 415, in get_next\n    flat_ret = gen_dataset_ops.iterator_get_next(\n  File \"/Users/husihao/anaconda3/lib/python3.8/site-packages/tensorflow/python/ops/gen_dataset_ops.py\", line 2599, in iterator_get_next\n    _, _, _op, _outputs = _op_def_library._apply_op_helper(\n  File \"/Users/husihao/anaconda3/lib/python3.8/site-packages/tensorflow/python/framework/op_def_library.py\", line 748, in _apply_op_helper\n    op = g._create_op_internal(op_type_name, inputs, dtypes=None,\n  File \"/Users/husihao/anaconda3/lib/python3.8/site-packages/tensorflow/python/framework/ops.py\", line 3528, in _create_op_internal\n    ret = Operation(\n  File \"/Users/husihao/anaconda3/lib/python3.8/site-packages/tensorflow/python/framework/ops.py\", line 1990, in __init__\n    self._traceback = tf_stack.extract_stack()\n",
     "output_type": "error",
     "traceback": [
      "\u001b[0;31m-----------------------------------------------\u001b[0m",
      "\u001b[0;31mInvalidArgumentError\u001b[0mTraceback (most recent call last)",
      "\u001b[0;32m~/anaconda3/lib/python3.8/site-packages/tensorflow/python/client/session.py\u001b[0m in \u001b[0;36m_do_call\u001b[0;34m(self, fn, *args)\u001b[0m\n\u001b[1;32m   1374\u001b[0m     \u001b[0;32mtry\u001b[0m\u001b[0;34m:\u001b[0m\u001b[0;34m\u001b[0m\u001b[0;34m\u001b[0m\u001b[0m\n\u001b[0;32m-> 1375\u001b[0;31m       \u001b[0;32mreturn\u001b[0m \u001b[0mfn\u001b[0m\u001b[0;34m(\u001b[0m\u001b[0;34m*\u001b[0m\u001b[0margs\u001b[0m\u001b[0;34m)\u001b[0m\u001b[0;34m\u001b[0m\u001b[0;34m\u001b[0m\u001b[0m\n\u001b[0m\u001b[1;32m   1376\u001b[0m     \u001b[0;32mexcept\u001b[0m \u001b[0merrors\u001b[0m\u001b[0;34m.\u001b[0m\u001b[0mOpError\u001b[0m \u001b[0;32mas\u001b[0m \u001b[0me\u001b[0m\u001b[0;34m:\u001b[0m\u001b[0;34m\u001b[0m\u001b[0;34m\u001b[0m\u001b[0m\n",
      "\u001b[0;32m~/anaconda3/lib/python3.8/site-packages/tensorflow/python/client/session.py\u001b[0m in \u001b[0;36m_run_fn\u001b[0;34m(feed_dict, fetch_list, target_list, options, run_metadata)\u001b[0m\n\u001b[1;32m   1358\u001b[0m       \u001b[0mself\u001b[0m\u001b[0;34m.\u001b[0m\u001b[0m_extend_graph\u001b[0m\u001b[0;34m(\u001b[0m\u001b[0;34m)\u001b[0m\u001b[0;34m\u001b[0m\u001b[0;34m\u001b[0m\u001b[0m\n\u001b[0;32m-> 1359\u001b[0;31m       return self._call_tf_sessionrun(options, feed_dict, fetch_list,\n\u001b[0m\u001b[1;32m   1360\u001b[0m                                       target_list, run_metadata)\n",
      "\u001b[0;32m~/anaconda3/lib/python3.8/site-packages/tensorflow/python/client/session.py\u001b[0m in \u001b[0;36m_call_tf_sessionrun\u001b[0;34m(self, options, feed_dict, fetch_list, target_list, run_metadata)\u001b[0m\n\u001b[1;32m   1450\u001b[0m                           run_metadata):\n\u001b[0;32m-> 1451\u001b[0;31m     return tf_session.TF_SessionRun_wrapper(self._session, options, feed_dict,\n\u001b[0m\u001b[1;32m   1452\u001b[0m                                             \u001b[0mfetch_list\u001b[0m\u001b[0;34m,\u001b[0m \u001b[0mtarget_list\u001b[0m\u001b[0;34m,\u001b[0m\u001b[0;34m\u001b[0m\u001b[0;34m\u001b[0m\u001b[0m\n",
      "\u001b[0;31mInvalidArgumentError\u001b[0m: Cannot batch tensors with different shapes in component 6. First element had shape [138] and element 2 had shape [140].\n\t [[{{node IteratorGetNext}}]]",
      "\nDuring handling of the above exception, another exception occurred:\n",
      "\u001b[0;31mInvalidArgumentError\u001b[0mTraceback (most recent call last)",
      "\u001b[0;32m<ipython-input-13-9e9ffbe52ea9>\u001b[0m in \u001b[0;36m<module>\u001b[0;34m\u001b[0m\n\u001b[1;32m      1\u001b[0m \u001b[0msess\u001b[0m \u001b[0;34m=\u001b[0m \u001b[0mtf\u001b[0m\u001b[0;34m.\u001b[0m\u001b[0mSession\u001b[0m\u001b[0;34m(\u001b[0m\u001b[0;34m)\u001b[0m\u001b[0;34m\u001b[0m\u001b[0;34m\u001b[0m\u001b[0m\n\u001b[0;32m----> 2\u001b[0;31m \u001b[0msess\u001b[0m\u001b[0;34m.\u001b[0m\u001b[0mrun\u001b[0m\u001b[0;34m(\u001b[0m\u001b[0mchannel\u001b[0m\u001b[0;34m)\u001b[0m\u001b[0;34m\u001b[0m\u001b[0;34m\u001b[0m\u001b[0m\n\u001b[0m",
      "\u001b[0;32m~/anaconda3/lib/python3.8/site-packages/tensorflow/python/client/session.py\u001b[0m in \u001b[0;36mrun\u001b[0;34m(self, fetches, feed_dict, options, run_metadata)\u001b[0m\n\u001b[1;32m    965\u001b[0m \u001b[0;34m\u001b[0m\u001b[0m\n\u001b[1;32m    966\u001b[0m     \u001b[0;32mtry\u001b[0m\u001b[0;34m:\u001b[0m\u001b[0;34m\u001b[0m\u001b[0;34m\u001b[0m\u001b[0m\n\u001b[0;32m--> 967\u001b[0;31m       result = self._run(None, fetches, feed_dict, options_ptr,\n\u001b[0m\u001b[1;32m    968\u001b[0m                          run_metadata_ptr)\n\u001b[1;32m    969\u001b[0m       \u001b[0;32mif\u001b[0m \u001b[0mrun_metadata\u001b[0m\u001b[0;34m:\u001b[0m\u001b[0;34m\u001b[0m\u001b[0;34m\u001b[0m\u001b[0m\n",
      "\u001b[0;32m~/anaconda3/lib/python3.8/site-packages/tensorflow/python/client/session.py\u001b[0m in \u001b[0;36m_run\u001b[0;34m(self, handle, fetches, feed_dict, options, run_metadata)\u001b[0m\n\u001b[1;32m   1188\u001b[0m     \u001b[0;31m# or if the call is a partial run that specifies feeds.\u001b[0m\u001b[0;34m\u001b[0m\u001b[0;34m\u001b[0m\u001b[0;34m\u001b[0m\u001b[0m\n\u001b[1;32m   1189\u001b[0m     \u001b[0;32mif\u001b[0m \u001b[0mfinal_fetches\u001b[0m \u001b[0;32mor\u001b[0m \u001b[0mfinal_targets\u001b[0m \u001b[0;32mor\u001b[0m \u001b[0;34m(\u001b[0m\u001b[0mhandle\u001b[0m \u001b[0;32mand\u001b[0m \u001b[0mfeed_dict_tensor\u001b[0m\u001b[0;34m)\u001b[0m\u001b[0;34m:\u001b[0m\u001b[0;34m\u001b[0m\u001b[0;34m\u001b[0m\u001b[0m\n\u001b[0;32m-> 1190\u001b[0;31m       results = self._do_run(handle, final_targets, final_fetches,\n\u001b[0m\u001b[1;32m   1191\u001b[0m                              feed_dict_tensor, options, run_metadata)\n\u001b[1;32m   1192\u001b[0m     \u001b[0;32melse\u001b[0m\u001b[0;34m:\u001b[0m\u001b[0;34m\u001b[0m\u001b[0;34m\u001b[0m\u001b[0m\n",
      "\u001b[0;32m~/anaconda3/lib/python3.8/site-packages/tensorflow/python/client/session.py\u001b[0m in \u001b[0;36m_do_run\u001b[0;34m(self, handle, target_list, fetch_list, feed_dict, options, run_metadata)\u001b[0m\n\u001b[1;32m   1366\u001b[0m \u001b[0;34m\u001b[0m\u001b[0m\n\u001b[1;32m   1367\u001b[0m     \u001b[0;32mif\u001b[0m \u001b[0mhandle\u001b[0m \u001b[0;32mis\u001b[0m \u001b[0;32mNone\u001b[0m\u001b[0;34m:\u001b[0m\u001b[0;34m\u001b[0m\u001b[0;34m\u001b[0m\u001b[0m\n\u001b[0;32m-> 1368\u001b[0;31m       return self._do_call(_run_fn, feeds, fetches, targets, options,\n\u001b[0m\u001b[1;32m   1369\u001b[0m                            run_metadata)\n\u001b[1;32m   1370\u001b[0m     \u001b[0;32melse\u001b[0m\u001b[0;34m:\u001b[0m\u001b[0;34m\u001b[0m\u001b[0;34m\u001b[0m\u001b[0m\n",
      "\u001b[0;32m~/anaconda3/lib/python3.8/site-packages/tensorflow/python/client/session.py\u001b[0m in \u001b[0;36m_do_call\u001b[0;34m(self, fn, *args)\u001b[0m\n\u001b[1;32m   1392\u001b[0m                     \u001b[0;34m'\\nsession_config.graph_options.rewrite_options.'\u001b[0m\u001b[0;34m\u001b[0m\u001b[0;34m\u001b[0m\u001b[0m\n\u001b[1;32m   1393\u001b[0m                     'disable_meta_optimizer = True')\n\u001b[0;32m-> 1394\u001b[0;31m       \u001b[0;32mraise\u001b[0m \u001b[0mtype\u001b[0m\u001b[0;34m(\u001b[0m\u001b[0me\u001b[0m\u001b[0;34m)\u001b[0m\u001b[0;34m(\u001b[0m\u001b[0mnode_def\u001b[0m\u001b[0;34m,\u001b[0m \u001b[0mop\u001b[0m\u001b[0;34m,\u001b[0m \u001b[0mmessage\u001b[0m\u001b[0;34m)\u001b[0m\u001b[0;34m\u001b[0m\u001b[0;34m\u001b[0m\u001b[0m\n\u001b[0m\u001b[1;32m   1395\u001b[0m \u001b[0;34m\u001b[0m\u001b[0m\n\u001b[1;32m   1396\u001b[0m   \u001b[0;32mdef\u001b[0m \u001b[0m_extend_graph\u001b[0m\u001b[0;34m(\u001b[0m\u001b[0mself\u001b[0m\u001b[0;34m)\u001b[0m\u001b[0;34m:\u001b[0m\u001b[0;34m\u001b[0m\u001b[0;34m\u001b[0m\u001b[0m\n",
      "\u001b[0;31mInvalidArgumentError\u001b[0m: Cannot batch tensors with different shapes in component 6. First element had shape [138] and element 2 had shape [140].\n\t [[node IteratorGetNext (defined at <ipython-input-8-76da07df8976>:1) ]]\n\nErrors may have originated from an input operation.\nInput Source operations connected to node IteratorGetNext:\n OneShotIterator (defined at <ipython-input-7-5108a2f362bc>:1)\n\nOriginal stack trace for 'IteratorGetNext':\n  File \"/Users/husihao/anaconda3/lib/python3.8/runpy.py\", line 194, in _run_module_as_main\n    return _run_code(code, main_globals, None,\n  File \"/Users/husihao/anaconda3/lib/python3.8/runpy.py\", line 87, in _run_code\n    exec(code, run_globals)\n  File \"/Users/husihao/anaconda3/lib/python3.8/site-packages/ipykernel_launcher.py\", line 16, in <module>\n    app.launch_new_instance()\n  File \"/Users/husihao/anaconda3/lib/python3.8/site-packages/traitlets/config/application.py\", line 845, in launch_instance\n    app.start()\n  File \"/Users/husihao/anaconda3/lib/python3.8/site-packages/ipykernel/kernelapp.py\", line 612, in start\n    self.io_loop.start()\n  File \"/Users/husihao/anaconda3/lib/python3.8/site-packages/tornado/platform/asyncio.py\", line 199, in start\n    self.asyncio_loop.run_forever()\n  File \"/Users/husihao/anaconda3/lib/python3.8/asyncio/base_events.py\", line 570, in run_forever\n    self._run_once()\n  File \"/Users/husihao/anaconda3/lib/python3.8/asyncio/base_events.py\", line 1859, in _run_once\n    handle._run()\n  File \"/Users/husihao/anaconda3/lib/python3.8/asyncio/events.py\", line 81, in _run\n    self._context.run(self._callback, *self._args)\n  File \"/Users/husihao/anaconda3/lib/python3.8/site-packages/tornado/ioloop.py\", line 688, in <lambda>\n    lambda f: self._run_callback(functools.partial(callback, future))\n  File \"/Users/husihao/anaconda3/lib/python3.8/site-packages/tornado/ioloop.py\", line 741, in _run_callback\n    ret = callback()\n  File \"/Users/husihao/anaconda3/lib/python3.8/site-packages/tornado/gen.py\", line 814, in inner\n    self.ctx_run(self.run)\n  File \"/Users/husihao/anaconda3/lib/python3.8/site-packages/tornado/gen.py\", line 775, in run\n    yielded = self.gen.send(value)\n  File \"/Users/husihao/anaconda3/lib/python3.8/site-packages/ipykernel/kernelbase.py\", line 365, in process_one\n    yield gen.maybe_future(dispatch(*args))\n  File \"/Users/husihao/anaconda3/lib/python3.8/site-packages/tornado/gen.py\", line 234, in wrapper\n    yielded = ctx_run(next, result)\n  File \"/Users/husihao/anaconda3/lib/python3.8/site-packages/ipykernel/kernelbase.py\", line 268, in dispatch_shell\n    yield gen.maybe_future(handler(stream, idents, msg))\n  File \"/Users/husihao/anaconda3/lib/python3.8/site-packages/tornado/gen.py\", line 234, in wrapper\n    yielded = ctx_run(next, result)\n  File \"/Users/husihao/anaconda3/lib/python3.8/site-packages/ipykernel/kernelbase.py\", line 543, in execute_request\n    self.do_execute(\n  File \"/Users/husihao/anaconda3/lib/python3.8/site-packages/tornado/gen.py\", line 234, in wrapper\n    yielded = ctx_run(next, result)\n  File \"/Users/husihao/anaconda3/lib/python3.8/site-packages/ipykernel/ipkernel.py\", line 306, in do_execute\n    res = shell.run_cell(code, store_history=store_history, silent=silent)\n  File \"/Users/husihao/anaconda3/lib/python3.8/site-packages/ipykernel/zmqshell.py\", line 536, in run_cell\n    return super(ZMQInteractiveShell, self).run_cell(*args, **kwargs)\n  File \"/Users/husihao/anaconda3/lib/python3.8/site-packages/IPython/core/interactiveshell.py\", line 2894, in run_cell\n    result = self._run_cell(\n  File \"/Users/husihao/anaconda3/lib/python3.8/site-packages/IPython/core/interactiveshell.py\", line 2940, in _run_cell\n    return runner(coro)\n  File \"/Users/husihao/anaconda3/lib/python3.8/site-packages/IPython/core/async_helpers.py\", line 68, in _pseudo_sync_runner\n    coro.send(None)\n  File \"/Users/husihao/anaconda3/lib/python3.8/site-packages/IPython/core/interactiveshell.py\", line 3165, in run_cell_async\n    has_raised = await self.run_ast_nodes(code_ast.body, cell_name,\n  File \"/Users/husihao/anaconda3/lib/python3.8/site-packages/IPython/core/interactiveshell.py\", line 3357, in run_ast_nodes\n    if (await self.run_code(code, result,  async_=asy)):\n  File \"/Users/husihao/anaconda3/lib/python3.8/site-packages/IPython/core/interactiveshell.py\", line 3437, in run_code\n    exec(code_obj, self.user_global_ns, self.user_ns)\n  File \"<ipython-input-8-76da07df8976>\", line 1, in <module>\n    label, channel, coin, length, coin_seq, feature_seq, feature_target = iterator.get_next()\n  File \"/Users/husihao/anaconda3/lib/python3.8/site-packages/tensorflow/python/data/ops/iterator_ops.py\", line 415, in get_next\n    flat_ret = gen_dataset_ops.iterator_get_next(\n  File \"/Users/husihao/anaconda3/lib/python3.8/site-packages/tensorflow/python/ops/gen_dataset_ops.py\", line 2599, in iterator_get_next\n    _, _, _op, _outputs = _op_def_library._apply_op_helper(\n  File \"/Users/husihao/anaconda3/lib/python3.8/site-packages/tensorflow/python/framework/op_def_library.py\", line 748, in _apply_op_helper\n    op = g._create_op_internal(op_type_name, inputs, dtypes=None,\n  File \"/Users/husihao/anaconda3/lib/python3.8/site-packages/tensorflow/python/framework/ops.py\", line 3528, in _create_op_internal\n    ret = Operation(\n  File \"/Users/husihao/anaconda3/lib/python3.8/site-packages/tensorflow/python/framework/ops.py\", line 1990, in __init__\n    self._traceback = tf_stack.extract_stack()\n"
     ]
    }
   ],
   "source": [
    "sess = tf.Session()\n",
    "sess.run(channel)"
   ]
  },
  {
   "cell_type": "code",
   "execution_count": null,
   "id": "619c1224",
   "metadata": {},
   "outputs": [],
   "source": []
  }
 ],
 "metadata": {
  "kernelspec": {
   "display_name": "Python 3",
   "language": "python",
   "name": "python3"
  },
  "language_info": {
   "codemirror_mode": {
    "name": "ipython",
    "version": 3
   },
   "file_extension": ".py",
   "mimetype": "text/x-python",
   "name": "python",
   "nbconvert_exporter": "python",
   "pygments_lexer": "ipython3",
   "version": "3.8.8"
  }
 },
 "nbformat": 4,
 "nbformat_minor": 5
}
