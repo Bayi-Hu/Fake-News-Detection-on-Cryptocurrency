{
 "cells": [
  {
   "cell_type": "code",
   "execution_count": 1,
   "id": "8ad826b3",
   "metadata": {},
   "outputs": [],
   "source": [
    "import numpy as np\n",
    "import pandas as pd\n",
    "import pickle\n",
    "import matplotlib.pyplot as plt\n",
    "import pandas as pd\n",
    "from sklearn.metrics import confusion_matrix\n",
    "from sklearn.metrics import classification_report\n",
    "from sklearn.model_selection import train_test_split\n",
    "from sklearn.linear_model import LogisticRegression\n",
    "from sklearn.tree import DecisionTreeClassifier\n",
    "from sklearn.ensemble import RandomForestClassifier, GradientBoostingClassifier\n",
    "from sklearn.naive_bayes import MultinomialNB\n",
    "from sklearn.svm import SVC\n",
    "from sklearn.metrics import accuracy_score,precision_score,recall_score,f1_score,roc_auc_score\n",
    "from sklearn.metrics import average_precision_score,roc_auc_score, roc_curve, precision_recall_curve\n",
    "from sklearn.preprocessing import LabelEncoder\n",
    "from sklearn.feature_extraction.text import TfidfVectorizer"
   ]
  },
  {
   "cell_type": "code",
   "execution_count": 70,
   "id": "8b9d889a",
   "metadata": {
    "scrolled": true
   },
   "outputs": [],
   "source": [
    "column_list = \"label,channel_id,coin,timestamp,length,coin_seq,feature_seq,pre_1h_return,pre_1h_price,pre_1h_price_avg,pre_1h_volume,pre_1h_volume_avg,pre_1h_volume_sum,pre_1h_volume_tb,pre_1h_volume_quote,pre_1h_volume_quote_tb,pre_3h_return,pre_3h_price,pre_3h_price_avg,pre_3h_volume,pre_3h_volume_avg,pre_3h_volume_sum,pre_3h_volume_tb,pre_3h_volume_tb_avg,pre_3h_volume_tb_sum,pre_3h_volume_quote,pre_3h_volume_quote_avg,pre_3h_volume_quote_sum,pre_3h_volume_quote_tb,pre_3h_volume_quote_tb_avg,pre_3h_volume_quote_tb_sum,pre_6h_return,pre_6h_price,pre_6h_price_avg,pre_6h_volume,pre_6h_volume_avg,pre_6h_volume_sum,pre_6h_volume_tb,pre_6h_volume_tb_avg,pre_6h_volume_tb_sum,pre_6h_volume_quote,pre_6h_volume_quote_avg,pre_6h_volume_quote_sum,pre_6h_volume_quote_tb,pre_6h_volume_quote_tb_avg,pre_6h_volume_quote_tb_sum,pre_12h_return,pre_12h_price,pre_12h_price_avg,pre_12h_volume,pre_12h_volume_avg,pre_12h_volume_sum,pre_12h_volume_tb,pre_12h_volume_tb_avg,pre_12h_volume_tb_sum,pre_12h_volume_quote,pre_12h_volume_quote_avg,pre_12h_volume_quote_sum,pre_12h_volume_quote_tb,pre_12h_volume_quote_tb_avg,pre_12h_volume_quote_tb_sum,pre_24h_return,pre_24h_price,pre_24h_price_avg,pre_24h_volume,pre_24h_volume_avg,pre_24h_volume_sum,pre_24h_volume_tb,pre_24h_volume_tb_avg,pre_24h_volume_tb_sum,pre_24h_volume_quote,pre_24h_volume_quote_avg,pre_24h_volume_quote_sum,pre_24h_volume_quote_tb,pre_24h_volume_quote_tb_avg,pre_24h_volume_quote_tb_sum,pre_36h_return,pre_36h_price,pre_36h_price_avg,pre_36h_volume,pre_36h_volume_avg,pre_36h_volume_sum,pre_36h_volume_tb,pre_36h_volume_tb_avg,pre_36h_volume_tb_sum,pre_36h_volume_quote,pre_36h_volume_quote_avg,pre_36h_volume_quote_sum,pre_36h_volume_quote_tb,pre_36h_volume_quote_tb_avg,pre_36h_volume_quote_tb_sum,pre_48h_return,pre_48h_price,pre_48h_price_avg,pre_48h_volume,pre_48h_volume_avg,pre_48h_volume_sum,pre_48h_volume_tb,pre_48h_volume_tb_avg,pre_48h_volume_tb_sum,pre_48h_volume_quote,pre_48h_volume_quote_avg,pre_48h_volume_quote_sum,pre_48h_volume_quote_tb,pre_48h_volume_quote_tb_avg,pre_48h_volume_quote_tb_sum,pre_60h_return,pre_60h_price,pre_60h_price_avg,pre_60h_volume,pre_60h_volume_avg,pre_60h_volume_sum,pre_60h_volume_tb,pre_60h_volume_tb_avg,pre_60h_volume_tb_sum,pre_60h_volume_quote,pre_60h_volume_quote_avg,pre_60h_volume_quote_sum,pre_60h_volume_quote_tb,pre_60h_volume_quote_tb_avg,pre_60h_volume_quote_tb_sum,pre_72h_return,pre_72h_price,pre_72h_price_avg,pre_72h_volume,pre_72h_volume_avg,pre_72h_volume_sum,pre_72h_volume_tb,pre_72h_volume_tb_avg,pre_72h_volume_tb_sum,pre_72h_volume_quote,pre_72h_volume_quote_avg,pre_72h_volume_quote_sum,pre_72h_volume_quote_tb,pre_72h_volume_quote_tb_avg,pre_72h_volume_quote_tb_sum,pre_3d_market_cap_usd,pre_3d_market_cap_btc,pre_3d_price_usd,pre_3d_price_btc,pre_3d_volume_usd,pre_3d_volume_btc,pre_3d_twitter_index,pre_3d_reddit_index,pre_3d_alexa_index\".split(\",\")\n",
    "test_df = pd.read_csv(\"../FeatGeneration/test_sample.csv\", names=column_list)\n",
    "train_df = pd.read_csv(\"../FeatGeneration/train_sample.csv\", names=column_list)"
   ]
  },
  {
   "cell_type": "code",
   "execution_count": 88,
   "id": "1d9fa4d8",
   "metadata": {},
   "outputs": [
    {
     "data": {
      "text/plain": [
       "0.024783715863927958"
      ]
     },
     "execution_count": 88,
     "metadata": {},
     "output_type": "execute_result"
    }
   ],
   "source": [
    "test_df_0 = test_df[test_df[\"label\"]==0]\n",
    "test_df_0[\"pre_72h_return\"].mean()"
   ]
  },
  {
   "cell_type": "code",
   "execution_count": 89,
   "id": "31898f3f",
   "metadata": {},
   "outputs": [
    {
     "data": {
      "text/plain": [
       "0.1608723749344157"
      ]
     },
     "execution_count": 89,
     "metadata": {},
     "output_type": "execute_result"
    }
   ],
   "source": [
    "test_df_1 = test_df[test_df[\"label\"]==1]\n",
    "test_df_1[\"pre_72h_return\"].mean()"
   ]
  },
  {
   "cell_type": "code",
   "execution_count": 57,
   "id": "f4b74f2a",
   "metadata": {},
   "outputs": [
    {
     "name": "stdout",
     "output_type": "stream",
     "text": [
      "pre_1h_return : 0.1861506544674234\n",
      "pre_1h_price : 0.325681075406604\n",
      "pre_1h_price_avg : 0.325681075406604\n",
      "pre_1h_volume : 22.44488271924212\n",
      "pre_1h_volume_avg : 22.44488271924212\n",
      "pre_1h_volume_sum : 22.44488271924212\n",
      "pre_1h_volume_tb : 21.45787285168372\n",
      "pre_1h_volume_quote : 4.227418347611336\n",
      "pre_1h_volume_quote_tb : 3.2244425438422875\n",
      "pre_3h_return : 0.1942251113161286\n",
      "pre_3h_price : 0.2736182235195997\n",
      "pre_3h_price_avg : 0.2912896792510703\n",
      "pre_3h_volume : 11.227676104588555\n",
      "pre_3h_volume_avg : 20.8933038271436\n",
      "pre_3h_volume_sum : 22.47826627848237\n",
      "pre_3h_volume_tb : 9.763378375104198\n",
      "pre_3h_volume_tb_avg : 19.91813207326622\n",
      "pre_3h_volume_tb_sum : 21.503094476907755\n",
      "pre_3h_volume_quote : -3.2302772709066288\n",
      "pre_3h_volume_quote_avg : 2.685473191958177\n",
      "pre_3h_volume_quote_sum : 4.255406506978451\n",
      "pre_3h_volume_quote_tb : -3.287979246457476\n",
      "pre_3h_volume_quote_tb_avg : 1.7075976703370417\n",
      "pre_3h_volume_quote_tb_sum : 3.26280821109038\n",
      "pre_6h_return : 0.2012495168384387\n",
      "pre_6h_price : 0.2725730445246691\n",
      "pre_6h_price_avg : 0.2820135153662201\n",
      "pre_6h_volume : 13.605606836299874\n",
      "pre_6h_volume_avg : 19.908781464724104\n",
      "pre_6h_volume_sum : 22.493743843306667\n",
      "pre_6h_volume_tb : 11.966541500806704\n",
      "pre_6h_volume_tb_avg : 18.924888163796613\n",
      "pre_6h_volume_tb_sum : 21.509850422952592\n",
      "pre_6h_volume_quote : -2.8999269130089904\n",
      "pre_6h_volume_quote_avg : 1.7203280735327926\n",
      "pre_6h_volume_quote_sum : 4.268335561987676\n",
      "pre_6h_volume_quote_tb : -3.172530060406296\n",
      "pre_6h_volume_quote_tb_avg : 0.7565479083240242\n",
      "pre_6h_volume_quote_tb_sum : 3.2685331495289573\n",
      "pre_12h_return : 0.2368674704063138\n",
      "pre_12h_price : 0.2649850222326234\n",
      "pre_12h_price_avg : 0.2751840627472569\n",
      "pre_12h_volume : 13.061050483106342\n",
      "pre_12h_volume_avg : 18.95863087439879\n",
      "pre_12h_volume_sum : 22.543593115541007\n",
      "pre_12h_volume_tb : 11.811414834716686\n",
      "pre_12h_volume_tb_avg : 17.9924701076864\n",
      "pre_12h_volume_tb_sum : 21.577432101285083\n",
      "pre_12h_volume_quote : -3.0274323825337315\n",
      "pre_12h_volume_quote_avg : 0.8027082116125756\n",
      "pre_12h_volume_quote_sum : 4.309792524840805\n",
      "pre_12h_volume_quote_tb : -3.1906965961040568\n",
      "pre_12h_volume_quote_tb_avg : -0.109079618180192\n",
      "pre_12h_volume_quote_tb_sum : 3.3256961808760903\n",
      "pre_24h_return : 0.205818654151225\n",
      "pre_24h_price : 0.2673795955882353\n",
      "pre_24h_price_avg : 0.2705227429234074\n",
      "pre_24h_volume : 13.672436391983108\n",
      "pre_24h_volume_avg : 18.018632922779386\n",
      "pre_24h_volume_sum : 22.60359490285492\n",
      "pre_24h_volume_tb : 11.00639621269966\n",
      "pre_24h_volume_tb_avg : 17.056180979890218\n",
      "pre_24h_volume_tb_sum : 21.64114246607132\n",
      "pre_24h_volume_quote : -2.8900142187790223\n",
      "pre_24h_volume_quote_avg : -0.0725649974746078\n",
      "pre_24h_volume_quote_sum : 4.3591485650152695\n",
      "pre_24h_volume_quote_tb : -3.245044515373308\n",
      "pre_24h_volume_quote_tb_avg : -0.9178257815127172\n",
      "pre_24h_volume_quote_tb_sum : 3.3789758036743125\n",
      "pre_36h_return : 0.2062262052096446\n",
      "pre_36h_price : 0.27\n",
      "pre_36h_price_avg : 0.270410879974773\n",
      "pre_36h_volume : 7.286326727090547\n",
      "pre_36h_volume_avg : 17.5379167941647\n",
      "pre_36h_volume_sum : 22.70784105854984\n",
      "pre_36h_volume_tb : -3.321928094887362\n",
      "pre_36h_volume_tb_avg : 16.56069629860868\n",
      "pre_36h_volume_tb_sum : 21.730619849029097\n",
      "pre_36h_volume_quote : -3.3158642249391805\n",
      "pre_36h_volume_quote_avg : -0.5083213753057194\n",
      "pre_36h_volume_quote_sum : 4.446880757161061\n",
      "pre_36h_volume_quote_tb : -3.321928094887362\n",
      "pre_36h_volume_quote_tb_avg : -1.3149260543933523\n",
      "pre_36h_volume_quote_tb_sum : 3.4554994429865715\n",
      "pre_48h_return : 0.2536864205185174\n",
      "pre_48h_price : 0.262377077726769\n",
      "pre_48h_price_avg : 0.2695951034852106\n",
      "pre_48h_volume : 14.946956519419366\n",
      "pre_48h_volume_avg : 17.22664616424159\n",
      "pre_48h_volume_sum : 22.81160774388969\n",
      "pre_48h_volume_tb : 13.286572200036918\n",
      "pre_48h_volume_tb_avg : 16.288219788345653\n",
      "pre_48h_volume_tb_sum : 21.87318052388805\n",
      "pre_48h_volume_quote : -2.4511323969315817\n",
      "pre_48h_volume_quote_avg : -0.7844091713041954\n",
      "pre_48h_volume_quote_sum : 4.534080566936264\n",
      "pre_48h_volume_quote_tb : -2.9857436707264693\n",
      "pre_48h_volume_quote_tb_avg : -1.5291215783009784\n",
      "pre_48h_volume_quote_tb_sum : 3.5766959050915537\n",
      "pre_60h_return : 0.2128067051998603\n",
      "pre_60h_price : 0.26877568934262\n",
      "pre_60h_price_avg : 0.2681534810637012\n",
      "pre_60h_volume : 13.35550251639289\n",
      "pre_60h_volume_avg : 17.547731133247765\n",
      "pre_60h_volume_sum : 23.45462098842973\n",
      "pre_60h_volume_tb : 12.989057382179713\n",
      "pre_60h_volume_tb_avg : 16.788995250821653\n",
      "pre_60h_volume_tb_sum : 22.69588459362274\n",
      "pre_60h_volume_quote : -2.9638651992681244\n",
      "pre_60h_volume_quote_avg : -0.5827234037712372\n",
      "pre_60h_volume_quote_sum : 5.094325988417845\n",
      "pre_60h_volume_quote_tb : -3.0365886161275077\n",
      "pre_60h_volume_quote_tb_avg : -1.2235953493867022\n",
      "pre_60h_volume_quote_tb_sum : 4.306907743623403\n",
      "pre_72h_return : 0.146838879221552\n",
      "pre_72h_price : 0.2811768499150416\n",
      "pre_72h_price_avg : 0.2690560717371376\n",
      "pre_72h_volume : 18.314698738094723\n",
      "pre_72h_volume_avg : 17.404392173809935\n",
      "pre_72h_volume_sum : 23.57431635517188\n",
      "pre_72h_volume_tb : 17.604952040445077\n",
      "pre_72h_volume_tb_avg : 16.63156632598417\n",
      "pre_72h_volume_tb_sum : 22.801489926226047\n",
      "pre_72h_volume_quote : 0.0229883385086608\n",
      "pre_72h_volume_quote_avg : -0.7102909688573619\n",
      "pre_72h_volume_quote_sum : 5.205790268720158\n",
      "pre_72h_volume_quote_tb : -0.6001624939856229\n",
      "pre_72h_volume_quote_tb_avg : -1.3460269763191393\n",
      "pre_72h_volume_quote_tb_sum : 4.407551154296589\n",
      "pre_3d_market_cap_usd : 25.875913946691263\n",
      "pre_3d_market_cap_btc : 10.136316891332214\n",
      "pre_3d_price_usd : 0.1613544438169898\n",
      "pre_3d_price_btc : 0.2947992108672138\n",
      "pre_3d_volume_usd : 22.55391203869989\n",
      "pre_3d_volume_btc : 6.815052727290818\n",
      "pre_3d_twitter_index : 14.81823763898116\n",
      "pre_3d_reddit_index : 13.739158260591733\n",
      "pre_3d_alexa_index : 18.42892892986403\n"
     ]
    }
   ],
   "source": [
    "for c in column_list[7:]:\n",
    "    print(c,\":\", test_df.loc[64297, c])"
   ]
  },
  {
   "cell_type": "code",
   "execution_count": 115,
   "id": "eb50c58f",
   "metadata": {},
   "outputs": [],
   "source": [
    "X_train = train_df[column_list[7:]].values\n",
    "y_train = train_df.label.values\n",
    "\n",
    "X_test = test_df[column_list[7:]].values\n",
    "y_test = test_df.label.values"
   ]
  },
  {
   "cell_type": "code",
   "execution_count": 116,
   "id": "a9749124",
   "metadata": {},
   "outputs": [
    {
     "name": "stdout",
     "output_type": "stream",
     "text": [
      "(132314, 138)\n",
      "(64299, 138)\n"
     ]
    }
   ],
   "source": [
    "print(X_train.shape)\n",
    "print(X_test.shape)"
   ]
  },
  {
   "cell_type": "code",
   "execution_count": 117,
   "id": "b5cbff09",
   "metadata": {},
   "outputs": [
    {
     "data": {
      "text/plain": [
       "GradientBoostingClassifier(max_depth=8, max_features='sqrt',\n",
       "                           min_samples_leaf=20, min_samples_split=300,\n",
       "                           random_state=10, subsample=0.8)"
      ]
     },
     "execution_count": 117,
     "metadata": {},
     "output_type": "execute_result"
    }
   ],
   "source": [
    "gbdt_model = GradientBoostingClassifier(learning_rate=0.1, min_samples_split=300, min_samples_leaf=20,max_depth=8,max_features='sqrt', subsample=0.8,random_state=10)\n",
    "gbdt_model.fit(X_train, y_train)\n",
    "y_pred_proba = gbdt_model.predict_proba(X_test)"
   ]
  },
  {
   "cell_type": "code",
   "execution_count": 118,
   "id": "09b3e827",
   "metadata": {},
   "outputs": [],
   "source": [
    "y_pred_proba = gbdt_model.predict_proba(X_test)"
   ]
  },
  {
   "cell_type": "code",
   "execution_count": 119,
   "id": "f0712bb3",
   "metadata": {},
   "outputs": [
    {
     "name": "stdout",
     "output_type": "stream",
     "text": [
      "[0.01967892 0.01506138 0.00410471 0.00660229 0.00500735 0.00199945\n",
      " 0.00398035 0.00908383 0.00291293 0.00836365 0.00524554 0.00346124\n",
      " 0.00224269 0.00139799 0.00515268 0.00388349 0.00167536 0.00975686\n",
      " 0.01088649 0.00632056 0.00292103 0.0069453  0.0048581  0.0132878\n",
      " 0.01628015 0.0231176  0.00526264 0.01011834 0.00218009 0.00670028\n",
      " 0.00285985 0.00531311 0.00197473 0.00829013 0.0028369  0.01085915\n",
      " 0.008423   0.0020084  0.00796134 0.01221032 0.003772   0.00718218\n",
      " 0.00351327 0.00687495 0.00290917 0.002595   0.00275681 0.00461041\n",
      " 0.0096682  0.00487395 0.00624266 0.00433634 0.00332081 0.00313281\n",
      " 0.01264947 0.00764391 0.00384673 0.00296032 0.0018232  0.00201155\n",
      " 0.00608228 0.00109584 0.00301694 0.00748953 0.00132812 0.00196233\n",
      " 0.00727332 0.00619642 0.00420537 0.00627301 0.00793732 0.01239082\n",
      " 0.00298957 0.00383443 0.00340464 0.00583289 0.00473334 0.00184145\n",
      " 0.00666779 0.00411064 0.00435675 0.00677339 0.00635491 0.00752479\n",
      " 0.01227382 0.00256514 0.00358248 0.00534759 0.00289963 0.00240626\n",
      " 0.00252194 0.00264438 0.01043367 0.00531744 0.00152522 0.00210772\n",
      " 0.00789836 0.00267769 0.00904711 0.02519336 0.00244369 0.00193883\n",
      " 0.00919534 0.0031231  0.00648423 0.00360562 0.00191609 0.00485181\n",
      " 0.00995713 0.00396471 0.00859392 0.00797671 0.0019822  0.00321587\n",
      " 0.01434716 0.00580362 0.01154201 0.00425045 0.00118231 0.0052353\n",
      " 0.00271578 0.00293515 0.00494491 0.00753306 0.00356102 0.00770148\n",
      " 0.00479942 0.00298936 0.004214   0.00543837 0.01082944 0.01597413\n",
      " 0.01774685 0.01699332 0.01411251 0.03182325 0.04917815 0.08483218]\n"
     ]
    }
   ],
   "source": [
    "feat_import = gbdt_model.feature_importances_\n",
    "print()"
   ]
  },
  {
   "cell_type": "code",
   "execution_count": 80,
   "id": "6637cae7",
   "metadata": {},
   "outputs": [
    {
     "data": {
      "text/plain": [
       "['pre_1h_return',\n",
       " 'pre_1h_price',\n",
       " 'pre_1h_price_avg',\n",
       " 'pre_1h_volume',\n",
       " 'pre_1h_volume_avg',\n",
       " 'pre_1h_volume_sum',\n",
       " 'pre_1h_volume_tb',\n",
       " 'pre_1h_volume_quote',\n",
       " 'pre_1h_volume_quote_tb',\n",
       " 'pre_3h_return',\n",
       " 'pre_3h_price',\n",
       " 'pre_3h_price_avg',\n",
       " 'pre_3h_volume',\n",
       " 'pre_3h_volume_avg',\n",
       " 'pre_3h_volume_sum',\n",
       " 'pre_3h_volume_tb',\n",
       " 'pre_3h_volume_tb_avg',\n",
       " 'pre_3h_volume_tb_sum',\n",
       " 'pre_3h_volume_quote',\n",
       " 'pre_3h_volume_quote_avg',\n",
       " 'pre_3h_volume_quote_sum',\n",
       " 'pre_3h_volume_quote_tb',\n",
       " 'pre_3h_volume_quote_tb_avg',\n",
       " 'pre_3h_volume_quote_tb_sum',\n",
       " 'pre_6h_return',\n",
       " 'pre_6h_price',\n",
       " 'pre_6h_price_avg',\n",
       " 'pre_6h_volume',\n",
       " 'pre_6h_volume_avg',\n",
       " 'pre_6h_volume_sum',\n",
       " 'pre_6h_volume_tb',\n",
       " 'pre_6h_volume_tb_avg',\n",
       " 'pre_6h_volume_tb_sum',\n",
       " 'pre_6h_volume_quote',\n",
       " 'pre_6h_volume_quote_avg',\n",
       " 'pre_6h_volume_quote_sum',\n",
       " 'pre_6h_volume_quote_tb',\n",
       " 'pre_6h_volume_quote_tb_avg',\n",
       " 'pre_6h_volume_quote_tb_sum',\n",
       " 'pre_12h_return',\n",
       " 'pre_12h_price',\n",
       " 'pre_12h_price_avg',\n",
       " 'pre_12h_volume',\n",
       " 'pre_12h_volume_avg',\n",
       " 'pre_12h_volume_sum',\n",
       " 'pre_12h_volume_tb',\n",
       " 'pre_12h_volume_tb_avg',\n",
       " 'pre_12h_volume_tb_sum',\n",
       " 'pre_12h_volume_quote',\n",
       " 'pre_12h_volume_quote_avg',\n",
       " 'pre_12h_volume_quote_sum',\n",
       " 'pre_12h_volume_quote_tb',\n",
       " 'pre_12h_volume_quote_tb_avg',\n",
       " 'pre_12h_volume_quote_tb_sum',\n",
       " 'pre_24h_return',\n",
       " 'pre_24h_price',\n",
       " 'pre_24h_price_avg',\n",
       " 'pre_24h_volume',\n",
       " 'pre_24h_volume_avg',\n",
       " 'pre_24h_volume_sum',\n",
       " 'pre_24h_volume_tb',\n",
       " 'pre_24h_volume_tb_avg',\n",
       " 'pre_24h_volume_tb_sum',\n",
       " 'pre_24h_volume_quote',\n",
       " 'pre_24h_volume_quote_avg',\n",
       " 'pre_24h_volume_quote_sum',\n",
       " 'pre_24h_volume_quote_tb',\n",
       " 'pre_24h_volume_quote_tb_avg',\n",
       " 'pre_24h_volume_quote_tb_sum',\n",
       " 'pre_36h_return',\n",
       " 'pre_36h_price',\n",
       " 'pre_36h_price_avg',\n",
       " 'pre_36h_volume',\n",
       " 'pre_36h_volume_avg',\n",
       " 'pre_36h_volume_sum',\n",
       " 'pre_36h_volume_tb',\n",
       " 'pre_36h_volume_tb_avg',\n",
       " 'pre_36h_volume_tb_sum',\n",
       " 'pre_36h_volume_quote',\n",
       " 'pre_36h_volume_quote_avg',\n",
       " 'pre_36h_volume_quote_sum',\n",
       " 'pre_36h_volume_quote_tb',\n",
       " 'pre_36h_volume_quote_tb_avg',\n",
       " 'pre_36h_volume_quote_tb_sum',\n",
       " 'pre_48h_return',\n",
       " 'pre_48h_price',\n",
       " 'pre_48h_price_avg',\n",
       " 'pre_48h_volume',\n",
       " 'pre_48h_volume_avg',\n",
       " 'pre_48h_volume_sum',\n",
       " 'pre_48h_volume_tb',\n",
       " 'pre_48h_volume_tb_avg',\n",
       " 'pre_48h_volume_tb_sum',\n",
       " 'pre_48h_volume_quote',\n",
       " 'pre_48h_volume_quote_avg',\n",
       " 'pre_48h_volume_quote_sum',\n",
       " 'pre_48h_volume_quote_tb',\n",
       " 'pre_48h_volume_quote_tb_avg',\n",
       " 'pre_48h_volume_quote_tb_sum',\n",
       " 'pre_60h_return',\n",
       " 'pre_60h_price',\n",
       " 'pre_60h_price_avg',\n",
       " 'pre_60h_volume',\n",
       " 'pre_60h_volume_avg',\n",
       " 'pre_60h_volume_sum',\n",
       " 'pre_60h_volume_tb',\n",
       " 'pre_60h_volume_tb_avg',\n",
       " 'pre_60h_volume_tb_sum',\n",
       " 'pre_60h_volume_quote',\n",
       " 'pre_60h_volume_quote_avg',\n",
       " 'pre_60h_volume_quote_sum',\n",
       " 'pre_60h_volume_quote_tb',\n",
       " 'pre_60h_volume_quote_tb_avg',\n",
       " 'pre_60h_volume_quote_tb_sum',\n",
       " 'pre_72h_return',\n",
       " 'pre_72h_price',\n",
       " 'pre_72h_price_avg',\n",
       " 'pre_72h_volume',\n",
       " 'pre_72h_volume_avg',\n",
       " 'pre_72h_volume_sum',\n",
       " 'pre_72h_volume_tb',\n",
       " 'pre_72h_volume_tb_avg',\n",
       " 'pre_72h_volume_tb_sum',\n",
       " 'pre_72h_volume_quote',\n",
       " 'pre_72h_volume_quote_avg',\n",
       " 'pre_72h_volume_quote_sum',\n",
       " 'pre_72h_volume_quote_tb',\n",
       " 'pre_72h_volume_quote_tb_avg',\n",
       " 'pre_72h_volume_quote_tb_sum',\n",
       " 'pre_3d_market_cap_usd',\n",
       " 'pre_3d_market_cap_btc',\n",
       " 'pre_3d_price_usd',\n",
       " 'pre_3d_price_btc',\n",
       " 'pre_3d_volume_usd',\n",
       " 'pre_3d_volume_btc',\n",
       " 'pre_3d_twitter_index',\n",
       " 'pre_3d_reddit_index',\n",
       " 'pre_3d_alexa_index']"
      ]
     },
     "execution_count": 80,
     "metadata": {},
     "output_type": "execute_result"
    }
   ],
   "source": [
    "column_list[7:]"
   ]
  },
  {
   "cell_type": "code",
   "execution_count": null,
   "id": "7bc76e88",
   "metadata": {},
   "outputs": [],
   "source": []
  },
  {
   "cell_type": "code",
   "execution_count": 120,
   "id": "70307db5",
   "metadata": {},
   "outputs": [
    {
     "name": "stdout",
     "output_type": "stream",
     "text": [
      "              precision    recall  f1-score   support\n",
      "\n",
      "           0       1.00      1.00      1.00     64099\n",
      "           1       0.27      0.15      0.19       200\n",
      "\n",
      "    accuracy                           1.00     64299\n",
      "   macro avg       0.64      0.57      0.60     64299\n",
      "weighted avg       1.00      1.00      1.00     64299\n",
      "\n"
     ]
    }
   ],
   "source": [
    "y_pred_proba_1 = y_pred_proba[:,1]\n",
    "y_pred = np.zeros_like(y_pred_proba_1)\n",
    "y_pred[np.where(y_pred_proba_1>=0.25)[0]] = 1\n",
    "print(classification_report(y_test.astype(int), y_pred))"
   ]
  },
  {
   "cell_type": "code",
   "execution_count": 121,
   "id": "379424a6",
   "metadata": {},
   "outputs": [
    {
     "name": "stdout",
     "output_type": "stream",
     "text": [
      "              precision    recall  f1-score   support\n",
      "\n",
      "           0       1.00      1.00      1.00     64099\n",
      "           1       0.45      0.15      0.23       200\n",
      "\n",
      "    accuracy                           1.00     64299\n",
      "   macro avg       0.73      0.57      0.61     64299\n",
      "weighted avg       1.00      1.00      1.00     64299\n",
      "\n"
     ]
    }
   ],
   "source": [
    "y_pred_proba_1 = y_pred_proba[:,1]\n",
    "y_pred = np.zeros_like(y_pred_proba_1)\n",
    "y_pred[np.where(y_pred_proba_1>=0.45)[0]] = 1\n",
    "print(classification_report(y_test.astype(int), y_pred))"
   ]
  },
  {
   "cell_type": "code",
   "execution_count": null,
   "id": "e8a8c0a8",
   "metadata": {},
   "outputs": [],
   "source": []
  },
  {
   "cell_type": "code",
   "execution_count": 123,
   "id": "97b5b50b",
   "metadata": {},
   "outputs": [],
   "source": [
    "from sklearn import metrics"
   ]
  },
  {
   "cell_type": "code",
   "execution_count": 124,
   "id": "7f4e462f",
   "metadata": {},
   "outputs": [
    {
     "data": {
      "text/plain": [
       "0.9547929764894929"
      ]
     },
     "execution_count": 124,
     "metadata": {},
     "output_type": "execute_result"
    }
   ],
   "source": [
    "fpr, tpr, thresholds = metrics.roc_curve(y_test, y_pred_proba_1, pos_label=1)\n",
    "metrics.auc(fpr, tpr)"
   ]
  },
  {
   "cell_type": "code",
   "execution_count": 127,
   "id": "5a8bd128",
   "metadata": {},
   "outputs": [
    {
     "data": {
      "text/plain": [
       "[<matplotlib.lines.Line2D at 0x7fa19f32d790>]"
      ]
     },
     "execution_count": 127,
     "metadata": {},
     "output_type": "execute_result"
    },
    {
     "data": {
      "image/png": "[encoded data removed]",
      "text/plain": [
       "<Figure size 432x288 with 1 Axes>"
      ]
     },
     "metadata": {
      "needs_background": "light"
     },
     "output_type": "display_data"
    }
   ],
   "source": [
    "import matplotlib.pyplot as plt\n",
    "# plt.figure(\"Recall-Threshold Curve\")\n",
    "# plt.title(\"Recall-Threshold Curve\")\n",
    "plt.xlabel(\"fpr\")\n",
    "plt.ylabel(\"tpr\")\n",
    "plt.plot(fpr, tpr)"
   ]
  },
  {
   "cell_type": "code",
   "execution_count": 126,
   "id": "7c00e25a",
   "metadata": {},
   "outputs": [
    {
     "data": {
      "text/plain": [
       "array([0.00000000e+00, 1.09206072e-04, 1.40407807e-04, ...,\n",
       "       9.99890794e-01, 9.99937597e-01, 1.00000000e+00])"
      ]
     },
     "execution_count": 126,
     "metadata": {},
     "output_type": "execute_result"
    }
   ],
   "source": [
    "fpr"
   ]
  },
  {
   "cell_type": "code",
   "execution_count": null,
   "id": "9c84ea66",
   "metadata": {},
   "outputs": [],
   "source": []
  },
  {
   "cell_type": "code",
   "execution_count": 122,
   "id": "3df3c526",
   "metadata": {},
   "outputs": [
    {
     "name": "stdout",
     "output_type": "stream",
     "text": [
      "              precision    recall  f1-score   support\n",
      "\n",
      "           0       1.00      1.00      1.00     64099\n",
      "           1       0.32      0.15      0.20       200\n",
      "\n",
      "    accuracy                           1.00     64299\n",
      "   macro avg       0.66      0.57      0.60     64299\n",
      "weighted avg       1.00      1.00      1.00     64299\n",
      "\n"
     ]
    }
   ],
   "source": [
    "y_pred_proba_1 = y_pred_proba[:,1]\n",
    "y_pred = np.zeros_like(y_pred_proba_1)\n",
    "y_pred[np.where(y_pred_proba_1>=0.3)[0]] = 1\n",
    "print(classification_report(y_test.astype(int), y_pred))"
   ]
  },
  {
   "cell_type": "code",
   "execution_count": null,
   "id": "f49873bb",
   "metadata": {},
   "outputs": [],
   "source": []
  },
  {
   "cell_type": "code",
   "execution_count": null,
   "id": "00241a66",
   "metadata": {},
   "outputs": [],
   "source": []
  },
  {
   "cell_type": "code",
   "execution_count": 90,
   "id": "16e9f592",
   "metadata": {},
   "outputs": [
    {
     "data": {
      "text/plain": [
       "array([1.06638462e-04, 1.38800818e-04, 8.42210769e-05, ...,\n",
       "       3.80999631e-04, 1.80077749e-04, 4.58299599e-05])"
      ]
     },
     "execution_count": 90,
     "metadata": {},
     "output_type": "execute_result"
    }
   ],
   "source": [
    "y_pred_proba_1"
   ]
  },
  {
   "cell_type": "code",
   "execution_count": 91,
   "id": "01585ab4",
   "metadata": {},
   "outputs": [],
   "source": [
    "from sklearn.metrics import precision_recall_curve \n",
    "precision, recall, thresholds = precision_recall_curve(y_test.astype(int), y_pred_proba[:,1])"
   ]
  },
  {
   "cell_type": "code",
   "execution_count": 92,
   "id": "246bbbbc",
   "metadata": {},
   "outputs": [
    {
     "data": {
      "text/plain": [
       "[<matplotlib.lines.Line2D at 0x7fa1b98de1c0>]"
      ]
     },
     "execution_count": 92,
     "metadata": {},
     "output_type": "execute_result"
    },
    {
     "data": {
      "image/png": "[encoded data removed]",
      "text/plain": [
       "<Figure size 432x288 with 1 Axes>"
      ]
     },
     "metadata": {
      "needs_background": "light"
     },
     "output_type": "display_data"
    }
   ],
   "source": [
    "import matplotlib.pyplot as plt\n",
    "plt.figure(\"P-R Curve\")\n",
    "plt.title(\"Precision-Recall Curve\")\n",
    "plt.xlabel(\"Recall\")\n",
    "plt.ylabel(\"Precision\")\n",
    "plt.plot(recall, precision)"
   ]
  },
  {
   "cell_type": "code",
   "execution_count": 93,
   "id": "753fd429",
   "metadata": {},
   "outputs": [
    {
     "data": {
      "text/plain": [
       "[<matplotlib.lines.Line2D at 0x7fa1b9a043d0>]"
      ]
     },
     "execution_count": 93,
     "metadata": {},
     "output_type": "execute_result"
    },
    {
     "data": {
      "image/png": "[encoded data removed]",
      "text/plain": [
       "<Figure size 432x288 with 1 Axes>"
      ]
     },
     "metadata": {
      "needs_background": "light"
     },
     "output_type": "display_data"
    }
   ],
   "source": [
    "import matplotlib.pyplot as plt\n",
    "plt.figure(\"Recall-Threshold Curve\")\n",
    "plt.title(\"Recall-Threshold Curve\")\n",
    "plt.xlabel(\"Threshold\")\n",
    "plt.ylabel(\"Recall\")\n",
    "plt.plot(thresholds, recall[:-1])"
   ]
  },
  {
   "cell_type": "code",
   "execution_count": 94,
   "id": "35e5d3d7",
   "metadata": {},
   "outputs": [
    {
     "data": {
      "text/plain": [
       "[<matplotlib.lines.Line2D at 0x7fa0bc4673a0>]"
      ]
     },
     "execution_count": 94,
     "metadata": {},
     "output_type": "execute_result"
    },
    {
     "data": {
      "image/png": "[encoded data removed]",
      "text/plain": [
       "<Figure size 432x288 with 1 Axes>"
      ]
     },
     "metadata": {
      "needs_background": "light"
     },
     "output_type": "display_data"
    }
   ],
   "source": [
    "import matplotlib.pyplot as plt\n",
    "plt.figure(\"Precision-Threshold Curve\")\n",
    "plt.title(\"Precision-Threshold Curve\")\n",
    "plt.xlabel(\"Threshold\")\n",
    "plt.ylabel(\"Precision\")\n",
    "plt.plot(thresholds, precision[:-1])"
   ]
  },
  {
   "cell_type": "code",
   "execution_count": null,
   "id": "ca171786",
   "metadata": {},
   "outputs": [],
   "source": []
  },
  {
   "cell_type": "code",
   "execution_count": null,
   "id": "a30548c4",
   "metadata": {},
   "outputs": [],
   "source": []
  },
  {
   "cell_type": "code",
   "execution_count": 105,
   "id": "2c1fb2bb",
   "metadata": {},
   "outputs": [],
   "source": [
    "from sklearn.metrics import precision_recall_curve \n",
    "precision, recall, thresholds = precision_recall_curve(y_test.astype(int), y_pred_proba[:,1])"
   ]
  },
  {
   "cell_type": "code",
   "execution_count": 106,
   "id": "cc5b290e",
   "metadata": {},
   "outputs": [
    {
     "data": {
      "text/plain": [
       "[<matplotlib.lines.Line2D at 0x7fa06a4073a0>]"
      ]
     },
     "execution_count": 106,
     "metadata": {},
     "output_type": "execute_result"
    },
    {
     "data": {
      "image/png": "[encoded data removed]",
      "text/plain": [
       "<Figure size 432x288 with 1 Axes>"
      ]
     },
     "metadata": {
      "needs_background": "light"
     },
     "output_type": "display_data"
    }
   ],
   "source": [
    "import matplotlib.pyplot as plt\n",
    "plt.figure(\"P-R Curve\")\n",
    "plt.title(\"Precision-Recall Curve\")\n",
    "plt.xlabel(\"Recall\")\n",
    "plt.ylabel(\"Precision\")\n",
    "plt.plot(recall, precision)"
   ]
  },
  {
   "cell_type": "code",
   "execution_count": 107,
   "id": "a8137583",
   "metadata": {},
   "outputs": [
    {
     "data": {
      "text/plain": [
       "[<matplotlib.lines.Line2D at 0x7fa0ba38cc10>]"
      ]
     },
     "execution_count": 107,
     "metadata": {},
     "output_type": "execute_result"
    },
    {
     "data": {
      "image/png": "[encoded data removed]",
      "text/plain": [
       "<Figure size 432x288 with 1 Axes>"
      ]
     },
     "metadata": {
      "needs_background": "light"
     },
     "output_type": "display_data"
    }
   ],
   "source": [
    "import matplotlib.pyplot as plt\n",
    "plt.figure(\"Recall-Threshold Curve\")\n",
    "plt.title(\"Recall-Threshold Curve\")\n",
    "plt.xlabel(\"Threshold\")\n",
    "plt.ylabel(\"Recall\")\n",
    "plt.plot(thresholds, recall[:-1])"
   ]
  },
  {
   "cell_type": "code",
   "execution_count": 108,
   "id": "8fbfc8ee",
   "metadata": {},
   "outputs": [
    {
     "data": {
      "text/plain": [
       "[<matplotlib.lines.Line2D at 0x7fa00c067070>]"
      ]
     },
     "execution_count": 108,
     "metadata": {},
     "output_type": "execute_result"
    },
    {
     "data": {
      "image/png": "[encoded data removed]",
      "text/plain": [
       "<Figure size 432x288 with 1 Axes>"
      ]
     },
     "metadata": {
      "needs_background": "light"
     },
     "output_type": "display_data"
    }
   ],
   "source": [
    "import matplotlib.pyplot as plt\n",
    "plt.figure(\"Precision-Threshold Curve\")\n",
    "plt.title(\"Precision-Threshold Curve\")\n",
    "plt.xlabel(\"Threshold\")\n",
    "plt.ylabel(\"Precision\")\n",
    "plt.plot(thresholds, precision[:-1])"
   ]
  },
  {
   "cell_type": "code",
   "execution_count": 114,
   "id": "a63cfe1f",
   "metadata": {},
   "outputs": [
    {
     "name": "stdout",
     "output_type": "stream",
     "text": [
      "              precision    recall  f1-score   support\n",
      "\n",
      "           0       1.00      1.00      1.00     64099\n",
      "           1       0.02      0.02      0.02       200\n",
      "\n",
      "    accuracy                           0.99     64299\n",
      "   macro avg       0.51      0.51      0.51     64299\n",
      "weighted avg       0.99      0.99      0.99     64299\n",
      "\n"
     ]
    }
   ],
   "source": [
    "y_pred_proba_1 = y_pred_proba[:,1]\n",
    "y_pred = np.zeros_like(y_pred_proba_1)\n",
    "y_pred[np.where(y_pred_proba_1>=0.2)[0]] = 1\n",
    "print(classification_report(y_test.astype(int), y_pred))"
   ]
  },
  {
   "cell_type": "code",
   "execution_count": null,
   "id": "930e8928",
   "metadata": {},
   "outputs": [],
   "source": []
  },
  {
   "cell_type": "code",
   "execution_count": 128,
   "id": "dd0b4897",
   "metadata": {},
   "outputs": [],
   "source": [
    "# 混合式进行 training/testing"
   ]
  },
  {
   "cell_type": "code",
   "execution_count": 129,
   "id": "e2f8e04d",
   "metadata": {},
   "outputs": [],
   "source": [
    "hybrid_df = pd.concat([train_df, test_df], axis=0)"
   ]
  },
  {
   "cell_type": "code",
   "execution_count": 131,
   "id": "ccc99b86",
   "metadata": {},
   "outputs": [],
   "source": [
    "# cleaned data\n",
    "X = hybrid_df[column_list[7:]].values\n",
    "y = hybrid_df.label.values\n",
    "\n",
    "X_train, X_test, y_train, y_test = train_test_split(X, y, test_size=0.3, random_state=42)"
   ]
  },
  {
   "cell_type": "code",
   "execution_count": 133,
   "id": "ecd48e2f",
   "metadata": {},
   "outputs": [],
   "source": [
    "gbdt_model = GradientBoostingClassifier(learning_rate=0.1, min_samples_split=300, min_samples_leaf=20,max_depth=8,max_features='sqrt', subsample=0.8,random_state=10)\n",
    "gbdt_model.fit(X_train, y_train)\n",
    "y_pred_proba = gbdt_model.predict_proba(X_test)"
   ]
  },
  {
   "cell_type": "code",
   "execution_count": 134,
   "id": "9949c59e",
   "metadata": {},
   "outputs": [
    {
     "name": "stdout",
     "output_type": "stream",
     "text": [
      "              precision    recall  f1-score   support\n",
      "\n",
      "           0       1.00      1.00      1.00     58682\n",
      "           1       0.86      0.71      0.78       302\n",
      "\n",
      "    accuracy                           1.00     58984\n",
      "   macro avg       0.93      0.85      0.89     58984\n",
      "weighted avg       1.00      1.00      1.00     58984\n",
      "\n"
     ]
    }
   ],
   "source": [
    "y_pred_proba_1 = y_pred_proba[:,1]\n",
    "y_pred = np.zeros_like(y_pred_proba_1)\n",
    "y_pred[np.where(y_pred_proba_1>=0.25)[0]] = 1\n",
    "print(classification_report(y_test.astype(int), y_pred))"
   ]
  },
  {
   "cell_type": "code",
   "execution_count": 136,
   "id": "7828c1c9",
   "metadata": {},
   "outputs": [],
   "source": [
    "from sklearn.metrics import precision_recall_curve \n",
    "precision, recall, thresholds = precision_recall_curve(y_test.astype(int), y_pred_proba[:,1])"
   ]
  },
  {
   "cell_type": "code",
   "execution_count": 137,
   "id": "0c2cd135",
   "metadata": {},
   "outputs": [
    {
     "data": {
      "text/plain": [
       "[<matplotlib.lines.Line2D at 0x7fa00c5e8c70>]"
      ]
     },
     "execution_count": 137,
     "metadata": {},
     "output_type": "execute_result"
    },
    {
     "data": {
      "image/png": "[encoded data removed]",
      "text/plain": [
       "<Figure size 432x288 with 1 Axes>"
      ]
     },
     "metadata": {
      "needs_background": "light"
     },
     "output_type": "display_data"
    }
   ],
   "source": [
    "import matplotlib.pyplot as plt\n",
    "plt.figure(\"P-R Curve\")\n",
    "plt.title(\"Precision-Recall Curve\")\n",
    "plt.xlabel(\"Recall\")\n",
    "plt.ylabel(\"Precision\")\n",
    "plt.plot(recall, precision)"
   ]
  },
  {
   "cell_type": "code",
   "execution_count": 138,
   "id": "ac3c3f8f",
   "metadata": {},
   "outputs": [
    {
     "data": {
      "text/plain": [
       "[<matplotlib.lines.Line2D at 0x7fa00ca2e0d0>]"
      ]
     },
     "execution_count": 138,
     "metadata": {},
     "output_type": "execute_result"
    },
    {
     "data": {
      "image/png": "[encoded data removed]",
      "text/plain": [
       "<Figure size 432x288 with 1 Axes>"
      ]
     },
     "metadata": {
      "needs_background": "light"
     },
     "output_type": "display_data"
    }
   ],
   "source": [
    "import matplotlib.pyplot as plt\n",
    "plt.figure(\"Recall-Threshold Curve\")\n",
    "plt.title(\"Recall-Threshold Curve\")\n",
    "plt.xlabel(\"Threshold\")\n",
    "plt.ylabel(\"Recall\")\n",
    "plt.plot(thresholds, recall[:-1])"
   ]
  },
  {
   "cell_type": "code",
   "execution_count": 139,
   "id": "f1729677",
   "metadata": {},
   "outputs": [
    {
     "data": {
      "text/plain": [
       "[<matplotlib.lines.Line2D at 0x7fa00c8cb760>]"
      ]
     },
     "execution_count": 139,
     "metadata": {},
     "output_type": "execute_result"
    },
    {
     "data": {
      "image/png": "[encoded data removed]",
      "text/plain": [
       "<Figure size 432x288 with 1 Axes>"
      ]
     },
     "metadata": {
      "needs_background": "light"
     },
     "output_type": "display_data"
    }
   ],
   "source": [
    "import matplotlib.pyplot as plt\n",
    "plt.figure(\"Precision-Threshold Curve\")\n",
    "plt.title(\"Precision-Threshold Curve\")\n",
    "plt.xlabel(\"Threshold\")\n",
    "plt.ylabel(\"Precision\")\n",
    "plt.plot(thresholds, precision[:-1])"
   ]
  },
  {
   "cell_type": "code",
   "execution_count": null,
   "id": "b84f4e8b",
   "metadata": {},
   "outputs": [],
   "source": []
  },
  {
   "cell_type": "code",
   "execution_count": 140,
   "id": "c907d821",
   "metadata": {},
   "outputs": [],
   "source": [
    "# 插点式"
   ]
  },
  {
   "cell_type": "code",
   "execution_count": 143,
   "id": "3b787c64",
   "metadata": {},
   "outputs": [
    {
     "data": {
      "text/plain": [
       "1546353004000"
      ]
     },
     "execution_count": 143,
     "metadata": {},
     "output_type": "execute_result"
    }
   ],
   "source": [
    "np.min(hybrid_df.timestamp.values)"
   ]
  },
  {
   "cell_type": "code",
   "execution_count": 144,
   "id": "1504fce2",
   "metadata": {},
   "outputs": [
    {
     "data": {
      "text/plain": [
       "1642518014000"
      ]
     },
     "execution_count": 144,
     "metadata": {},
     "output_type": "execute_result"
    }
   ],
   "source": [
    "np.max(hybrid_df.timestamp.values)"
   ]
  },
  {
   "cell_type": "code",
   "execution_count": 152,
   "id": "7c5c4ad7",
   "metadata": {},
   "outputs": [],
   "source": [
    "test_df_list = []\n",
    "train_df_list = []\n",
    "\n",
    "timestamp_list = list(range(1546353004000,1642518014000+1, 9616501000))\n",
    "for i in range(len(timestamp_list)-1):\n",
    "    low = timestamp_list[i]\n",
    "    high = timestamp_list[i+1]\n",
    "    \n",
    "    select_df = hybrid_df[hybrid_df.timestamp>= low]\n",
    "    select_df = select_df[select_df.timestamp<high]\n",
    "    \n",
    "    split_ts = low + (high - low) * 0.7\n",
    "    \n",
    "    train_df_list.append(select_df[select_df.timestamp<split_ts])\n",
    "    test_df_list.append(select_df[select_df.timestamp>=split_ts])\n",
    "    "
   ]
  },
  {
   "cell_type": "code",
   "execution_count": 167,
   "id": "10b56311",
   "metadata": {},
   "outputs": [],
   "source": [
    "test_df = pd.concat(test_df_list, axis=0)\n",
    "train_df = pd.concat(train_df_list, axis=0)"
   ]
  },
  {
   "cell_type": "code",
   "execution_count": 172,
   "id": "98db88b4",
   "metadata": {},
   "outputs": [
    {
     "data": {
      "text/plain": [
       "0    138676\n",
       "1       681\n",
       "Name: label, dtype: int64"
      ]
     },
     "execution_count": 172,
     "metadata": {},
     "output_type": "execute_result"
    }
   ],
   "source": [
    "train_df.label.value_counts()"
   ]
  },
  {
   "cell_type": "code",
   "execution_count": 170,
   "id": "cb166778",
   "metadata": {},
   "outputs": [
    {
     "data": {
      "text/plain": [
       "0    56679\n",
       "1      267\n",
       "Name: label, dtype: int64"
      ]
     },
     "execution_count": 170,
     "metadata": {},
     "output_type": "execute_result"
    }
   ],
   "source": [
    "test_df.label.value_counts()"
   ]
  },
  {
   "cell_type": "code",
   "execution_count": 173,
   "id": "1ed77b7c",
   "metadata": {},
   "outputs": [],
   "source": [
    "X_train = train_df[column_list[7:]].values\n",
    "y_train = train_df.label.values\n",
    "\n",
    "X_test = test_df[column_list[7:]].values\n",
    "y_test = test_df.label.values"
   ]
  },
  {
   "cell_type": "code",
   "execution_count": 175,
   "id": "290a2920",
   "metadata": {},
   "outputs": [],
   "source": [
    "gbdt_model = GradientBoostingClassifier(learning_rate=0.1, min_samples_split=300, min_samples_leaf=20,max_depth=8,max_features='sqrt', subsample=0.8,random_state=10)\n",
    "gbdt_model.fit(X_train, y_train)\n",
    "y_pred_proba = gbdt_model.predict_proba(X_test)"
   ]
  },
  {
   "cell_type": "code",
   "execution_count": 176,
   "id": "bd8567cc",
   "metadata": {},
   "outputs": [
    {
     "name": "stdout",
     "output_type": "stream",
     "text": [
      "              precision    recall  f1-score   support\n",
      "\n",
      "           0       1.00      1.00      1.00     56679\n",
      "           1       0.33      0.13      0.18       267\n",
      "\n",
      "    accuracy                           0.99     56946\n",
      "   macro avg       0.66      0.56      0.59     56946\n",
      "weighted avg       0.99      0.99      0.99     56946\n",
      "\n"
     ]
    }
   ],
   "source": [
    "y_pred_proba_1 = y_pred_proba[:,1]\n",
    "y_pred = np.zeros_like(y_pred_proba_1)\n",
    "y_pred[np.where(y_pred_proba_1>=0.25)[0]] = 1\n",
    "print(classification_report(y_test.astype(int), y_pred))"
   ]
  },
  {
   "cell_type": "code",
   "execution_count": 188,
   "id": "32fd01c8",
   "metadata": {},
   "outputs": [
    {
     "name": "stdout",
     "output_type": "stream",
     "text": [
      "              precision    recall  f1-score   support\n",
      "\n",
      "           0       1.00      1.00      1.00     56679\n",
      "           1       0.34      0.12      0.17       267\n",
      "\n",
      "    accuracy                           0.99     56946\n",
      "   macro avg       0.67      0.56      0.59     56946\n",
      "weighted avg       0.99      0.99      0.99     56946\n",
      "\n"
     ]
    }
   ],
   "source": [
    "y_pred_proba_1 = y_pred_proba[:,1]\n",
    "y_pred = np.zeros_like(y_pred_proba_1)\n",
    "y_pred[np.where(y_pred_proba_1>=0.31)[0]] = 1\n",
    "print(classification_report(y_test.astype(int), y_pred))"
   ]
  },
  {
   "cell_type": "code",
   "execution_count": 179,
   "id": "741f31eb",
   "metadata": {},
   "outputs": [
    {
     "name": "stdout",
     "output_type": "stream",
     "text": [
      "              precision    recall  f1-score   support\n",
      "\n",
      "           0       1.00      1.00      1.00     56679\n",
      "           1       0.42      0.10      0.16       267\n",
      "\n",
      "    accuracy                           1.00     56946\n",
      "   macro avg       0.71      0.55      0.58     56946\n",
      "weighted avg       0.99      1.00      0.99     56946\n",
      "\n"
     ]
    }
   ],
   "source": [
    "y_pred_proba_1 = y_pred_proba[:,1]\n",
    "y_pred = np.zeros_like(y_pred_proba_1)\n",
    "y_pred[np.where(y_pred_proba_1>=0.4)[0]] = 1\n",
    "print(classification_report(y_test.astype(int), y_pred))"
   ]
  },
  {
   "cell_type": "code",
   "execution_count": 180,
   "id": "1f344f82",
   "metadata": {},
   "outputs": [],
   "source": [
    "from sklearn.metrics import precision_recall_curve \n",
    "precision, recall, thresholds = precision_recall_curve(y_test.astype(int), y_pred_proba[:,1])"
   ]
  },
  {
   "cell_type": "code",
   "execution_count": 181,
   "id": "9df7a086",
   "metadata": {},
   "outputs": [
    {
     "data": {
      "text/plain": [
       "[<matplotlib.lines.Line2D at 0x7f9ff968a700>]"
      ]
     },
     "execution_count": 181,
     "metadata": {},
     "output_type": "execute_result"
    },
    {
     "data": {
      "image/png": "[encoded data removed]",
      "text/plain": [
       "<Figure size 432x288 with 1 Axes>"
      ]
     },
     "metadata": {
      "needs_background": "light"
     },
     "output_type": "display_data"
    }
   ],
   "source": [
    "import matplotlib.pyplot as plt\n",
    "plt.figure(\"P-R Curve\")\n",
    "plt.title(\"Precision-Recall Curve\")\n",
    "plt.xlabel(\"Recall\")\n",
    "plt.ylabel(\"Precision\")\n",
    "plt.plot(recall, precision)"
   ]
  },
  {
   "cell_type": "code",
   "execution_count": 182,
   "id": "1c21612b",
   "metadata": {},
   "outputs": [
    {
     "data": {
      "text/plain": [
       "[<matplotlib.lines.Line2D at 0x7fa00faebe50>]"
      ]
     },
     "execution_count": 182,
     "metadata": {},
     "output_type": "execute_result"
    },
    {
     "data": {
      "image/png": "[encoded data removed]",
      "text/plain": [
       "<Figure size 432x288 with 1 Axes>"
      ]
     },
     "metadata": {
      "needs_background": "light"
     },
     "output_type": "display_data"
    }
   ],
   "source": [
    "import matplotlib.pyplot as plt\n",
    "plt.figure(\"Recall-Threshold Curve\")\n",
    "plt.title(\"Recall-Threshold Curve\")\n",
    "plt.xlabel(\"Threshold\")\n",
    "plt.ylabel(\"Recall\")\n",
    "plt.plot(thresholds, recall[:-1])"
   ]
  },
  {
   "cell_type": "code",
   "execution_count": 183,
   "id": "8379dbcd",
   "metadata": {},
   "outputs": [
    {
     "data": {
      "text/plain": [
       "[<matplotlib.lines.Line2D at 0x7fa00f7c2d90>]"
      ]
     },
     "execution_count": 183,
     "metadata": {},
     "output_type": "execute_result"
    },
    {
     "data": {
      "image/png": "[encoded data removed]",
      "text/plain": [
       "<Figure size 432x288 with 1 Axes>"
      ]
     },
     "metadata": {
      "needs_background": "light"
     },
     "output_type": "display_data"
    }
   ],
   "source": [
    "import matplotlib.pyplot as plt\n",
    "plt.figure(\"Precision-Threshold Curve\")\n",
    "plt.title(\"Precision-Threshold Curve\")\n",
    "plt.xlabel(\"Threshold\")\n",
    "plt.ylabel(\"Precision\")\n",
    "plt.plot(thresholds, precision[:-1])"
   ]
  },
  {
   "cell_type": "code",
   "execution_count": null,
   "id": "1a8c0fe2",
   "metadata": {},
   "outputs": [],
   "source": []
  }
 ],
 "metadata": {
  "kernelspec": {
   "display_name": "Python 3",
   "language": "python",
   "name": "python3"
  },
  "language_info": {
   "codemirror_mode": {
    "name": "ipython",
    "version": 3
   },
   "file_extension": ".py",
   "mimetype": "text/x-python",
   "name": "python",
   "nbconvert_exporter": "python",
   "pygments_lexer": "ipython3",
   "version": "3.8.8"
  }
 },
 "nbformat": 4,
 "nbformat_minor": 5
}
