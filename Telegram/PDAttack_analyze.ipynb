{
 "cells": [
  {
   "cell_type": "code",
   "execution_count": 141,
   "id": "f8a6aebe",
   "metadata": {},
   "outputs": [],
   "source": [
    "import pandas as pd\n",
    "import numpy as np"
   ]
  },
  {
   "cell_type": "code",
   "execution_count": 156,
   "id": "e6564ca6",
   "metadata": {},
   "outputs": [],
   "source": [
    "df = pd.read_csv(\"Labeled/pump_attack.txt\", header=None, sep=\"\\t\", names=[\"channel_id\", \"session_id\", \"coin\", \"exchange\", \"pair\", \"timestamp\"])"
   ]
  },
  {
   "cell_type": "code",
   "execution_count": 157,
   "id": "281caeeb",
   "metadata": {
    "scrolled": true
   },
   "outputs": [
    {
     "data": {
      "text/plain": [
       "binance         941\n",
       "yobit           194\n",
       "?                65\n",
       "hotbit           59\n",
       "kucoin           26\n",
       "gate.io          16\n",
       "Yobit            12\n",
       "bittrex           6\n",
       "Binance           4\n",
       "Bittrex           2\n",
       "cryptopia         2\n",
       "CREX24            1\n",
       "Poocoin           1\n",
       "UNISWAP           1\n",
       "coinexchange      1\n",
       "coineal.com       1\n",
       "coineal           1\n",
       "BITMART           1\n",
       "Hotbit            1\n",
       "Name: exchange, dtype: int64"
      ]
     },
     "execution_count": 157,
     "metadata": {},
     "output_type": "execute_result"
    }
   ],
   "source": [
    "df.exchange.value_counts()"
   ]
  },
  {
   "cell_type": "code",
   "execution_count": 158,
   "id": "8d0f1cba",
   "metadata": {},
   "outputs": [
    {
     "data": {
      "text/plain": [
       "BTC     747\n",
       "?       470\n",
       "USDT    116\n",
       "ETH       2\n",
       "Name: pair, dtype: int64"
      ]
     },
     "execution_count": 158,
     "metadata": {},
     "output_type": "execute_result"
    }
   ],
   "source": [
    "df.pair.value_counts()"
   ]
  },
  {
   "cell_type": "code",
   "execution_count": 32,
   "id": "12a703f3",
   "metadata": {},
   "outputs": [
    {
     "ename": "SyntaxError",
     "evalue": "invalid syntax (<ipython-input-32-4d3ae241dc0d>, line 2)",
     "output_type": "error",
     "traceback": [
      "\u001b[0;36m  File \u001b[0;32m\"<ipython-input-32-4d3ae241dc0d>\"\u001b[0;36m, line \u001b[0;32m2\u001b[0m\n\u001b[0;31m    1. 搜索币种相同时间类似的attack, 然后选择。\u001b[0m\n\u001b[0m       ^\u001b[0m\n\u001b[0;31mSyntaxError\u001b[0m\u001b[0;31m:\u001b[0m invalid syntax\n"
     ]
    }
   ],
   "source": [
    "如果是问号\n",
    "1. 搜索币种相同时间类似的attack, 然后选择。\n",
    "2. 如果还是问号，则当前channel上一次attack保持一致。\n"
   ]
  },
  {
   "cell_type": "code",
   "execution_count": 159,
   "id": "55d24b03",
   "metadata": {
    "scrolled": false
   },
   "outputs": [],
   "source": [
    "df[\"timestamp\"] = df.timestamp.apply(pd.to_datetime)"
   ]
  },
  {
   "cell_type": "code",
   "execution_count": 160,
   "id": "41e9cff5",
   "metadata": {},
   "outputs": [],
   "source": [
    "coin_time_to_exchange = {}\n",
    "coin_time_to_pair = {}\n",
    "\n",
    "for idx, row in df[df[\"pair\"]!=\"?\"].iterrows():\n",
    "    \n",
    "    coin_time_to_pair[row.coin + \"_\" + row.timestamp.strftime(\"%Y%m%d\")] = row.pair\n",
    "    \n",
    "for idx, row in df[df[\"exchange\"]!=\"?\"].iterrows():\n",
    "    \n",
    "    coin_time_to_exchange[row.coin + \"_\"+ row.timestamp.strftime(\"%Y%m%d\")] = row.exchange\n",
    "\n",
    "# for df[df[\"pair\"]==\"?\"]"
   ]
  },
  {
   "cell_type": "code",
   "execution_count": 161,
   "id": "32bb83f2",
   "metadata": {},
   "outputs": [
    {
     "name": "stdout",
     "output_type": "stream",
     "text": [
      "669\n",
      "526\n"
     ]
    }
   ],
   "source": [
    "print(len(coin_time_to_exchange))\n",
    "print(len(coin_time_to_pair))"
   ]
  },
  {
   "cell_type": "code",
   "execution_count": 162,
   "id": "6dfd26d3",
   "metadata": {},
   "outputs": [],
   "source": [
    "exchange_fail_cnt = 0\n",
    "pair_fail_cnt = 0\n",
    "\n",
    "for i,r in df.iterrows():\n",
    "    if df.loc[i,\"exchange\"]==\"?\":\n",
    "        try:\n",
    "            exchange = coin_time_to_exchange[df.loc[i,\"coin\"]+\"_\"+ df.loc[i,\"timestamp\"].strftime(\"%Y%m%d\")]\n",
    "            df.loc[i,\"exchange\"] = exchange\n",
    "\n",
    "        except:\n",
    "            exchange_fail_cnt += 1\n",
    "    \n",
    "    if df.loc[i,\"pair\"]==\"?\":\n",
    "        try:\n",
    "            pair = coin_time_to_pair[df.loc[i,\"coin\"]+\"_\"+ df.loc[i,\"timestamp\"].strftime(\"%Y%m%d\")]\n",
    "            df.loc[i,\"pair\"] = pair\n",
    "\n",
    "        except:\n",
    "\n",
    "            pair_fail_cnt += 1\n",
    "    "
   ]
  },
  {
   "cell_type": "code",
   "execution_count": 163,
   "id": "73164a7c",
   "metadata": {},
   "outputs": [
    {
     "name": "stdout",
     "output_type": "stream",
     "text": [
      "12\n"
     ]
    }
   ],
   "source": [
    "count = 0\n",
    "for i in range(len(df)):\n",
    "\n",
    "    if df.loc[i, \"exchange\"]==\"?\":\n",
    "        if (df.loc[i-1, \"exchange\"] != \"?\" and df.loc[i-1, \"channel_id\"] == df.loc[i, \"channel_id\"]):\n",
    "            df.loc[i, \"exchange\"] = df.loc[i-1, \"exchange\"]\n",
    "            count +=1\n",
    "    \n",
    "print(count)"
   ]
  },
  {
   "cell_type": "code",
   "execution_count": 164,
   "id": "2df012ab",
   "metadata": {},
   "outputs": [
    {
     "name": "stdout",
     "output_type": "stream",
     "text": [
      "191\n"
     ]
    }
   ],
   "source": [
    "count = 0\n",
    "for i in range(len(df)):\n",
    "\n",
    "    if df.loc[i, \"pair\"]==\"?\":\n",
    "        if (df.loc[i-1, \"pair\"] != \"?\" and df.loc[i-1, \"channel_id\"] == df.loc[i, \"channel_id\"]):\n",
    "            df.loc[i, \"pair\"] = df.loc[i-1, \"pair\"]\n",
    "            count +=1\n",
    "    \n",
    "print(count)"
   ]
  },
  {
   "cell_type": "code",
   "execution_count": 165,
   "id": "56e277a5",
   "metadata": {
    "scrolled": true
   },
   "outputs": [],
   "source": [
    "for i in range(len(df)):\n",
    "\n",
    "    if df.loc[i, \"pair\"]==\"?\":\n",
    "        df.loc[i, \"pair\"] = \"BTC\"\n",
    "    \n",
    "    if df.loc[i, \"exchange\"]==\"?\":\n",
    "        df.loc[i, \"exchange\"] = \"binance\"\n",
    "    \n"
   ]
  },
  {
   "cell_type": "code",
   "execution_count": 166,
   "id": "daa0e6fc",
   "metadata": {},
   "outputs": [
    {
     "data": {
      "text/plain": [
       "binance         999\n",
       "yobit           195\n",
       "hotbit           61\n",
       "kucoin           26\n",
       "gate.io          16\n",
       "Yobit            12\n",
       "bittrex           8\n",
       "Binance           4\n",
       "Hotbit            2\n",
       "Bittrex           2\n",
       "UNISWAP           2\n",
       "cryptopia         2\n",
       "Poocoin           1\n",
       "CREX24            1\n",
       "coinexchange      1\n",
       "coineal.com       1\n",
       "coineal           1\n",
       "BITMART           1\n",
       "Name: exchange, dtype: int64"
      ]
     },
     "execution_count": 166,
     "metadata": {},
     "output_type": "execute_result"
    }
   ],
   "source": [
    "df.exchange.value_counts()"
   ]
  },
  {
   "cell_type": "code",
   "execution_count": 167,
   "id": "b754dbb0",
   "metadata": {},
   "outputs": [
    {
     "data": {
      "text/plain": [
       "BTC     1211\n",
       "USDT     122\n",
       "ETH        2\n",
       "Name: pair, dtype: int64"
      ]
     },
     "execution_count": 167,
     "metadata": {},
     "output_type": "execute_result"
    }
   ],
   "source": [
    "df.pair.value_counts()"
   ]
  },
  {
   "cell_type": "code",
   "execution_count": 168,
   "id": "7c831610",
   "metadata": {},
   "outputs": [
    {
     "data": {
      "text/plain": [
       "'/Users/husihao/Documents/Project/Pump-and-Dump-Detection-on-Cryptocurrency/Telegram'"
      ]
     },
     "execution_count": 168,
     "metadata": {},
     "output_type": "execute_result"
    }
   ],
   "source": [
    "pwd"
   ]
  },
  {
   "cell_type": "code",
   "execution_count": 173,
   "id": "dbe7aa63",
   "metadata": {},
   "outputs": [],
   "source": [
    "df.to_csv(\"./Labeled/pump_attack_new.txt\", index=False, sep=\"\\t\")"
   ]
  },
  {
   "cell_type": "code",
   "execution_count": null,
   "id": "4a6e7adf",
   "metadata": {},
   "outputs": [],
   "source": []
  },
  {
   "cell_type": "code",
   "execution_count": null,
   "id": "e8b3223f",
   "metadata": {},
   "outputs": [],
   "source": []
  }
 ],
 "metadata": {
  "kernelspec": {
   "display_name": "Python 3",
   "language": "python",
   "name": "python3"
  },
  "language_info": {
   "codemirror_mode": {
    "name": "ipython",
    "version": 3
   },
   "file_extension": ".py",
   "mimetype": "text/x-python",
   "name": "python",
   "nbconvert_exporter": "python",
   "pygments_lexer": "ipython3",
   "version": "3.8.8"
  }
 },
 "nbformat": 4,
 "nbformat_minor": 5
}
